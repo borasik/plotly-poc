{
 "cells": [
  {
   "cell_type": "code",
   "execution_count": 56,
   "metadata": {},
   "outputs": [],
   "source": [
    "import plotly.graph_objs as go\n",
    "import numpy as np\n",
    "import plotly.offline as offline\n",
    "import pandas as pd\n",
    "import plotly.express as px\n",
    "import chart_studio\n",
    "import chart_studio.plotly as py\n",
    "import chart_studio.tools as tools"
   ]
  },
  {
   "cell_type": "code",
   "execution_count": 57,
   "metadata": {},
   "outputs": [],
   "source": [
    "username = 'borasik'\n",
    "api_key = '7A355irV4UCG3Jk1YeQ8'\n",
    "chart_studio.tools.set_credentials_file(username=username, api_key=api_key)\n"
   ]
  },
  {
   "cell_type": "code",
   "execution_count": 58,
   "metadata": {},
   "outputs": [
    {
     "data": {
      "text/html": [
       "<div>\n",
       "<style scoped>\n",
       "    .dataframe tbody tr th:only-of-type {\n",
       "        vertical-align: middle;\n",
       "    }\n",
       "\n",
       "    .dataframe tbody tr th {\n",
       "        vertical-align: top;\n",
       "    }\n",
       "\n",
       "    .dataframe thead th {\n",
       "        text-align: right;\n",
       "    }\n",
       "</style>\n",
       "<table border=\"1\" class=\"dataframe\">\n",
       "  <thead>\n",
       "    <tr style=\"text-align: right;\">\n",
       "      <th></th>\n",
       "      <th>activity_year</th>\n",
       "      <th>lei</th>\n",
       "      <th>derived_msa-md</th>\n",
       "      <th>state_code</th>\n",
       "      <th>county_code</th>\n",
       "      <th>census_tract</th>\n",
       "      <th>conforming_loan_limit</th>\n",
       "      <th>derived_loan_product_type</th>\n",
       "      <th>derived_dwelling_category</th>\n",
       "      <th>derived_ethnicity</th>\n",
       "      <th>derived_race</th>\n",
       "      <th>derived_sex</th>\n",
       "      <th>action_taken</th>\n",
       "      <th>purchaser_type</th>\n",
       "      <th>preapproval</th>\n",
       "      <th>loan_type</th>\n",
       "      <th>loan_purpose</th>\n",
       "      <th>lien_status</th>\n",
       "      <th>reverse_mortgage</th>\n",
       "      <th>open-end_line_of_credit</th>\n",
       "      <th>business_or_commercial_purpose</th>\n",
       "      <th>loan_amount</th>\n",
       "      <th>loan_to_value_ratio</th>\n",
       "      <th>interest_rate</th>\n",
       "      <th>rate_spread</th>\n",
       "      <th>hoepa_status</th>\n",
       "      <th>total_loan_costs</th>\n",
       "      <th>total_points_and_fees</th>\n",
       "      <th>origination_charges</th>\n",
       "      <th>discount_points</th>\n",
       "      <th>lender_credits</th>\n",
       "      <th>loan_term</th>\n",
       "      <th>prepayment_penalty_term</th>\n",
       "      <th>intro_rate_period</th>\n",
       "      <th>negative_amortization</th>\n",
       "      <th>interest_only_payment</th>\n",
       "      <th>balloon_payment</th>\n",
       "      <th>other_nonamortizing_features</th>\n",
       "      <th>property_value</th>\n",
       "      <th>construction_method</th>\n",
       "      <th>occupancy_type</th>\n",
       "      <th>manufactured_home_secured_property_type</th>\n",
       "      <th>manufactured_home_land_property_interest</th>\n",
       "      <th>total_units</th>\n",
       "      <th>multifamily_affordable_units</th>\n",
       "      <th>income</th>\n",
       "      <th>debt_to_income_ratio</th>\n",
       "      <th>applicant_credit_score_type</th>\n",
       "      <th>co-applicant_credit_score_type</th>\n",
       "      <th>applicant_ethnicity-1</th>\n",
       "      <th>applicant_ethnicity-2</th>\n",
       "      <th>applicant_ethnicity-3</th>\n",
       "      <th>applicant_ethnicity-4</th>\n",
       "      <th>applicant_ethnicity-5</th>\n",
       "      <th>co-applicant_ethnicity-1</th>\n",
       "      <th>co-applicant_ethnicity-2</th>\n",
       "      <th>co-applicant_ethnicity-3</th>\n",
       "      <th>co-applicant_ethnicity-4</th>\n",
       "      <th>co-applicant_ethnicity-5</th>\n",
       "      <th>applicant_ethnicity_observed</th>\n",
       "      <th>co-applicant_ethnicity_observed</th>\n",
       "      <th>applicant_race-1</th>\n",
       "      <th>applicant_race-2</th>\n",
       "      <th>applicant_race-3</th>\n",
       "      <th>applicant_race-4</th>\n",
       "      <th>applicant_race-5</th>\n",
       "      <th>co-applicant_race-1</th>\n",
       "      <th>co-applicant_race-2</th>\n",
       "      <th>co-applicant_race-3</th>\n",
       "      <th>co-applicant_race-4</th>\n",
       "      <th>co-applicant_race-5</th>\n",
       "      <th>applicant_race_observed</th>\n",
       "      <th>co-applicant_race_observed</th>\n",
       "      <th>applicant_sex</th>\n",
       "      <th>co-applicant_sex</th>\n",
       "      <th>applicant_sex_observed</th>\n",
       "      <th>co-applicant_sex_observed</th>\n",
       "      <th>applicant_age</th>\n",
       "      <th>co-applicant_age</th>\n",
       "      <th>applicant_age_above_62</th>\n",
       "      <th>co-applicant_age_above_62</th>\n",
       "      <th>submission_of_application</th>\n",
       "      <th>initially_payable_to_institution</th>\n",
       "      <th>aus-1</th>\n",
       "      <th>aus-2</th>\n",
       "      <th>aus-3</th>\n",
       "      <th>aus-4</th>\n",
       "      <th>aus-5</th>\n",
       "      <th>denial_reason-1</th>\n",
       "      <th>denial_reason-2</th>\n",
       "      <th>denial_reason-3</th>\n",
       "      <th>denial_reason-4</th>\n",
       "      <th>tract_population</th>\n",
       "      <th>tract_minority_population_percent</th>\n",
       "      <th>ffiec_msa_md_median_family_income</th>\n",
       "      <th>tract_to_msa_income_percentage</th>\n",
       "      <th>tract_owner_occupied_units</th>\n",
       "      <th>tract_one_to_four_family_homes</th>\n",
       "      <th>tract_median_age_of_housing_units</th>\n",
       "    </tr>\n",
       "  </thead>\n",
       "  <tbody>\n",
       "    <tr>\n",
       "      <th>0</th>\n",
       "      <td>2019</td>\n",
       "      <td>5493001K7B4W8IPMZ254</td>\n",
       "      <td>31084</td>\n",
       "      <td>CA</td>\n",
       "      <td>6037.0</td>\n",
       "      <td>6037920032</td>\n",
       "      <td>C</td>\n",
       "      <td>Conventional:First Lien</td>\n",
       "      <td>Single Family (1-4 Units):Site-Built</td>\n",
       "      <td>Not Hispanic or Latino</td>\n",
       "      <td>Asian</td>\n",
       "      <td>Male</td>\n",
       "      <td>1</td>\n",
       "      <td>1</td>\n",
       "      <td>1</td>\n",
       "      <td>1</td>\n",
       "      <td>1</td>\n",
       "      <td>1</td>\n",
       "      <td>2</td>\n",
       "      <td>2</td>\n",
       "      <td>2</td>\n",
       "      <td>455000</td>\n",
       "      <td>55.47</td>\n",
       "      <td>4</td>\n",
       "      <td>-0.22</td>\n",
       "      <td>2</td>\n",
       "      <td>5398.4</td>\n",
       "      <td>NaN</td>\n",
       "      <td>2090</td>\n",
       "      <td>NaN</td>\n",
       "      <td>NaN</td>\n",
       "      <td>360</td>\n",
       "      <td>NaN</td>\n",
       "      <td>NaN</td>\n",
       "      <td>2</td>\n",
       "      <td>2</td>\n",
       "      <td>2</td>\n",
       "      <td>2</td>\n",
       "      <td>825000</td>\n",
       "      <td>1</td>\n",
       "      <td>1</td>\n",
       "      <td>3</td>\n",
       "      <td>5</td>\n",
       "      <td>1</td>\n",
       "      <td>NaN</td>\n",
       "      <td>8.0</td>\n",
       "      <td>45</td>\n",
       "      <td>2</td>\n",
       "      <td>10</td>\n",
       "      <td>2</td>\n",
       "      <td>NaN</td>\n",
       "      <td>NaN</td>\n",
       "      <td>NaN</td>\n",
       "      <td>NaN</td>\n",
       "      <td>4</td>\n",
       "      <td>NaN</td>\n",
       "      <td>NaN</td>\n",
       "      <td>NaN</td>\n",
       "      <td>NaN</td>\n",
       "      <td>2</td>\n",
       "      <td>3</td>\n",
       "      <td>2</td>\n",
       "      <td>25.0</td>\n",
       "      <td>NaN</td>\n",
       "      <td>NaN</td>\n",
       "      <td>NaN</td>\n",
       "      <td>6</td>\n",
       "      <td>NaN</td>\n",
       "      <td>NaN</td>\n",
       "      <td>NaN</td>\n",
       "      <td>NaN</td>\n",
       "      <td>2</td>\n",
       "      <td>3</td>\n",
       "      <td>1</td>\n",
       "      <td>4</td>\n",
       "      <td>2</td>\n",
       "      <td>3</td>\n",
       "      <td>45-54</td>\n",
       "      <td>9999</td>\n",
       "      <td>No</td>\n",
       "      <td>NaN</td>\n",
       "      <td>1</td>\n",
       "      <td>1</td>\n",
       "      <td>1</td>\n",
       "      <td>NaN</td>\n",
       "      <td>NaN</td>\n",
       "      <td>NaN</td>\n",
       "      <td>NaN</td>\n",
       "      <td>10</td>\n",
       "      <td>NaN</td>\n",
       "      <td>NaN</td>\n",
       "      <td>NaN</td>\n",
       "      <td>3230</td>\n",
       "      <td>42.63</td>\n",
       "      <td>73100</td>\n",
       "      <td>218</td>\n",
       "      <td>781</td>\n",
       "      <td>871</td>\n",
       "      <td>14</td>\n",
       "    </tr>\n",
       "    <tr>\n",
       "      <th>1</th>\n",
       "      <td>2019</td>\n",
       "      <td>5493001K7B4W8IPMZ254</td>\n",
       "      <td>31084</td>\n",
       "      <td>CA</td>\n",
       "      <td>6037.0</td>\n",
       "      <td>6037920334</td>\n",
       "      <td>C</td>\n",
       "      <td>Conventional:First Lien</td>\n",
       "      <td>Single Family (1-4 Units):Site-Built</td>\n",
       "      <td>Ethnicity Not Available</td>\n",
       "      <td>Asian</td>\n",
       "      <td>Male</td>\n",
       "      <td>1</td>\n",
       "      <td>9</td>\n",
       "      <td>1</td>\n",
       "      <td>1</td>\n",
       "      <td>1</td>\n",
       "      <td>1</td>\n",
       "      <td>2</td>\n",
       "      <td>2</td>\n",
       "      <td>2</td>\n",
       "      <td>225000</td>\n",
       "      <td>70</td>\n",
       "      <td>5.75</td>\n",
       "      <td>1.914</td>\n",
       "      <td>2</td>\n",
       "      <td>11373</td>\n",
       "      <td>NaN</td>\n",
       "      <td>6840</td>\n",
       "      <td>NaN</td>\n",
       "      <td>NaN</td>\n",
       "      <td>360</td>\n",
       "      <td>NaN</td>\n",
       "      <td>NaN</td>\n",
       "      <td>2</td>\n",
       "      <td>2</td>\n",
       "      <td>2</td>\n",
       "      <td>2</td>\n",
       "      <td>325000</td>\n",
       "      <td>1</td>\n",
       "      <td>1</td>\n",
       "      <td>3</td>\n",
       "      <td>5</td>\n",
       "      <td>1</td>\n",
       "      <td>NaN</td>\n",
       "      <td>5.0</td>\n",
       "      <td>45</td>\n",
       "      <td>2</td>\n",
       "      <td>10</td>\n",
       "      <td>3</td>\n",
       "      <td>NaN</td>\n",
       "      <td>NaN</td>\n",
       "      <td>NaN</td>\n",
       "      <td>NaN</td>\n",
       "      <td>4</td>\n",
       "      <td>NaN</td>\n",
       "      <td>NaN</td>\n",
       "      <td>NaN</td>\n",
       "      <td>NaN</td>\n",
       "      <td>2</td>\n",
       "      <td>3</td>\n",
       "      <td>2</td>\n",
       "      <td>27.0</td>\n",
       "      <td>NaN</td>\n",
       "      <td>NaN</td>\n",
       "      <td>NaN</td>\n",
       "      <td>6</td>\n",
       "      <td>NaN</td>\n",
       "      <td>NaN</td>\n",
       "      <td>NaN</td>\n",
       "      <td>NaN</td>\n",
       "      <td>2</td>\n",
       "      <td>3</td>\n",
       "      <td>1</td>\n",
       "      <td>4</td>\n",
       "      <td>2</td>\n",
       "      <td>3</td>\n",
       "      <td>45-54</td>\n",
       "      <td>9999</td>\n",
       "      <td>No</td>\n",
       "      <td>NaN</td>\n",
       "      <td>1</td>\n",
       "      <td>1</td>\n",
       "      <td>6</td>\n",
       "      <td>NaN</td>\n",
       "      <td>NaN</td>\n",
       "      <td>NaN</td>\n",
       "      <td>NaN</td>\n",
       "      <td>10</td>\n",
       "      <td>NaN</td>\n",
       "      <td>NaN</td>\n",
       "      <td>NaN</td>\n",
       "      <td>6263</td>\n",
       "      <td>36.79</td>\n",
       "      <td>73100</td>\n",
       "      <td>144</td>\n",
       "      <td>1435</td>\n",
       "      <td>1584</td>\n",
       "      <td>40</td>\n",
       "    </tr>\n",
       "    <tr>\n",
       "      <th>2</th>\n",
       "      <td>2019</td>\n",
       "      <td>5493001K7B4W8IPMZ254</td>\n",
       "      <td>31084</td>\n",
       "      <td>CA</td>\n",
       "      <td>6037.0</td>\n",
       "      <td>6037211120</td>\n",
       "      <td>C</td>\n",
       "      <td>Conventional:First Lien</td>\n",
       "      <td>Single Family (1-4 Units):Site-Built</td>\n",
       "      <td>Ethnicity Not Available</td>\n",
       "      <td>Race Not Available</td>\n",
       "      <td>Sex Not Available</td>\n",
       "      <td>1</td>\n",
       "      <td>0</td>\n",
       "      <td>1</td>\n",
       "      <td>1</td>\n",
       "      <td>1</td>\n",
       "      <td>1</td>\n",
       "      <td>2</td>\n",
       "      <td>2</td>\n",
       "      <td>2</td>\n",
       "      <td>235000</td>\n",
       "      <td>60</td>\n",
       "      <td>5.375</td>\n",
       "      <td>1.027</td>\n",
       "      <td>2</td>\n",
       "      <td>7833</td>\n",
       "      <td>NaN</td>\n",
       "      <td>2875</td>\n",
       "      <td>NaN</td>\n",
       "      <td>NaN</td>\n",
       "      <td>360</td>\n",
       "      <td>NaN</td>\n",
       "      <td>84</td>\n",
       "      <td>2</td>\n",
       "      <td>2</td>\n",
       "      <td>2</td>\n",
       "      <td>2</td>\n",
       "      <td>395000</td>\n",
       "      <td>1</td>\n",
       "      <td>1</td>\n",
       "      <td>3</td>\n",
       "      <td>5</td>\n",
       "      <td>1</td>\n",
       "      <td>NaN</td>\n",
       "      <td>6.0</td>\n",
       "      <td>41</td>\n",
       "      <td>1</td>\n",
       "      <td>10</td>\n",
       "      <td>3</td>\n",
       "      <td>NaN</td>\n",
       "      <td>NaN</td>\n",
       "      <td>NaN</td>\n",
       "      <td>NaN</td>\n",
       "      <td>4</td>\n",
       "      <td>NaN</td>\n",
       "      <td>NaN</td>\n",
       "      <td>NaN</td>\n",
       "      <td>NaN</td>\n",
       "      <td>2</td>\n",
       "      <td>3</td>\n",
       "      <td>6</td>\n",
       "      <td>NaN</td>\n",
       "      <td>NaN</td>\n",
       "      <td>NaN</td>\n",
       "      <td>NaN</td>\n",
       "      <td>6</td>\n",
       "      <td>NaN</td>\n",
       "      <td>NaN</td>\n",
       "      <td>NaN</td>\n",
       "      <td>NaN</td>\n",
       "      <td>2</td>\n",
       "      <td>3</td>\n",
       "      <td>3</td>\n",
       "      <td>4</td>\n",
       "      <td>2</td>\n",
       "      <td>3</td>\n",
       "      <td>55-64</td>\n",
       "      <td>9999</td>\n",
       "      <td>No</td>\n",
       "      <td>NaN</td>\n",
       "      <td>1</td>\n",
       "      <td>1</td>\n",
       "      <td>6</td>\n",
       "      <td>NaN</td>\n",
       "      <td>NaN</td>\n",
       "      <td>NaN</td>\n",
       "      <td>NaN</td>\n",
       "      <td>10</td>\n",
       "      <td>NaN</td>\n",
       "      <td>NaN</td>\n",
       "      <td>NaN</td>\n",
       "      <td>5174</td>\n",
       "      <td>89.54</td>\n",
       "      <td>73100</td>\n",
       "      <td>64</td>\n",
       "      <td>166</td>\n",
       "      <td>62</td>\n",
       "      <td>33</td>\n",
       "    </tr>\n",
       "    <tr>\n",
       "      <th>3</th>\n",
       "      <td>2019</td>\n",
       "      <td>5493001K7B4W8IPMZ254</td>\n",
       "      <td>40140</td>\n",
       "      <td>CA</td>\n",
       "      <td>6071.0</td>\n",
       "      <td>6071010024</td>\n",
       "      <td>C</td>\n",
       "      <td>FHA:First Lien</td>\n",
       "      <td>Single Family (1-4 Units):Site-Built</td>\n",
       "      <td>Hispanic or Latino</td>\n",
       "      <td>Race Not Available</td>\n",
       "      <td>Joint</td>\n",
       "      <td>1</td>\n",
       "      <td>2</td>\n",
       "      <td>2</td>\n",
       "      <td>2</td>\n",
       "      <td>32</td>\n",
       "      <td>1</td>\n",
       "      <td>2</td>\n",
       "      <td>2</td>\n",
       "      <td>2</td>\n",
       "      <td>305000</td>\n",
       "      <td>79.73</td>\n",
       "      <td>4.625</td>\n",
       "      <td>0.636</td>\n",
       "      <td>2</td>\n",
       "      <td>9375.4</td>\n",
       "      <td>NaN</td>\n",
       "      <td>2812.5</td>\n",
       "      <td>NaN</td>\n",
       "      <td>NaN</td>\n",
       "      <td>360</td>\n",
       "      <td>NaN</td>\n",
       "      <td>NaN</td>\n",
       "      <td>2</td>\n",
       "      <td>2</td>\n",
       "      <td>2</td>\n",
       "      <td>2</td>\n",
       "      <td>375000</td>\n",
       "      <td>1</td>\n",
       "      <td>1</td>\n",
       "      <td>3</td>\n",
       "      <td>5</td>\n",
       "      <td>1</td>\n",
       "      <td>NaN</td>\n",
       "      <td>7.0</td>\n",
       "      <td>42</td>\n",
       "      <td>3</td>\n",
       "      <td>3</td>\n",
       "      <td>1</td>\n",
       "      <td>14.0</td>\n",
       "      <td>NaN</td>\n",
       "      <td>NaN</td>\n",
       "      <td>NaN</td>\n",
       "      <td>1</td>\n",
       "      <td>14.0</td>\n",
       "      <td>NaN</td>\n",
       "      <td>NaN</td>\n",
       "      <td>NaN</td>\n",
       "      <td>3</td>\n",
       "      <td>3</td>\n",
       "      <td>6</td>\n",
       "      <td>NaN</td>\n",
       "      <td>NaN</td>\n",
       "      <td>NaN</td>\n",
       "      <td>NaN</td>\n",
       "      <td>6</td>\n",
       "      <td>NaN</td>\n",
       "      <td>NaN</td>\n",
       "      <td>NaN</td>\n",
       "      <td>NaN</td>\n",
       "      <td>3</td>\n",
       "      <td>3</td>\n",
       "      <td>1</td>\n",
       "      <td>2</td>\n",
       "      <td>3</td>\n",
       "      <td>3</td>\n",
       "      <td>35-44</td>\n",
       "      <td>35-44</td>\n",
       "      <td>No</td>\n",
       "      <td>No</td>\n",
       "      <td>1</td>\n",
       "      <td>1</td>\n",
       "      <td>3</td>\n",
       "      <td>NaN</td>\n",
       "      <td>NaN</td>\n",
       "      <td>NaN</td>\n",
       "      <td>NaN</td>\n",
       "      <td>10</td>\n",
       "      <td>NaN</td>\n",
       "      <td>NaN</td>\n",
       "      <td>NaN</td>\n",
       "      <td>5459</td>\n",
       "      <td>40.21</td>\n",
       "      <td>69700</td>\n",
       "      <td>108</td>\n",
       "      <td>1409</td>\n",
       "      <td>1751</td>\n",
       "      <td>29</td>\n",
       "    </tr>\n",
       "    <tr>\n",
       "      <th>4</th>\n",
       "      <td>2019</td>\n",
       "      <td>5493001K7B4W8IPMZ254</td>\n",
       "      <td>31084</td>\n",
       "      <td>CA</td>\n",
       "      <td>6037.0</td>\n",
       "      <td>6037543304</td>\n",
       "      <td>C</td>\n",
       "      <td>FHA:First Lien</td>\n",
       "      <td>Single Family (1-4 Units):Site-Built</td>\n",
       "      <td>Ethnicity Not Available</td>\n",
       "      <td>Black or African American</td>\n",
       "      <td>Joint</td>\n",
       "      <td>1</td>\n",
       "      <td>2</td>\n",
       "      <td>1</td>\n",
       "      <td>2</td>\n",
       "      <td>1</td>\n",
       "      <td>1</td>\n",
       "      <td>2</td>\n",
       "      <td>2</td>\n",
       "      <td>2</td>\n",
       "      <td>605000</td>\n",
       "      <td>95</td>\n",
       "      <td>4</td>\n",
       "      <td>0.207</td>\n",
       "      <td>2</td>\n",
       "      <td>17581.96</td>\n",
       "      <td>NaN</td>\n",
       "      <td>2290</td>\n",
       "      <td>NaN</td>\n",
       "      <td>NaN</td>\n",
       "      <td>360</td>\n",
       "      <td>NaN</td>\n",
       "      <td>NaN</td>\n",
       "      <td>2</td>\n",
       "      <td>2</td>\n",
       "      <td>2</td>\n",
       "      <td>2</td>\n",
       "      <td>645000</td>\n",
       "      <td>1</td>\n",
       "      <td>1</td>\n",
       "      <td>3</td>\n",
       "      <td>5</td>\n",
       "      <td>1</td>\n",
       "      <td>NaN</td>\n",
       "      <td>15.0</td>\n",
       "      <td>50%-60%</td>\n",
       "      <td>2</td>\n",
       "      <td>2</td>\n",
       "      <td>3</td>\n",
       "      <td>NaN</td>\n",
       "      <td>NaN</td>\n",
       "      <td>NaN</td>\n",
       "      <td>NaN</td>\n",
       "      <td>3</td>\n",
       "      <td>NaN</td>\n",
       "      <td>NaN</td>\n",
       "      <td>NaN</td>\n",
       "      <td>NaN</td>\n",
       "      <td>3</td>\n",
       "      <td>3</td>\n",
       "      <td>3</td>\n",
       "      <td>NaN</td>\n",
       "      <td>NaN</td>\n",
       "      <td>NaN</td>\n",
       "      <td>NaN</td>\n",
       "      <td>3</td>\n",
       "      <td>NaN</td>\n",
       "      <td>NaN</td>\n",
       "      <td>NaN</td>\n",
       "      <td>NaN</td>\n",
       "      <td>3</td>\n",
       "      <td>3</td>\n",
       "      <td>1</td>\n",
       "      <td>2</td>\n",
       "      <td>3</td>\n",
       "      <td>3</td>\n",
       "      <td>25-34</td>\n",
       "      <td>25-34</td>\n",
       "      <td>No</td>\n",
       "      <td>No</td>\n",
       "      <td>1</td>\n",
       "      <td>1</td>\n",
       "      <td>3</td>\n",
       "      <td>NaN</td>\n",
       "      <td>NaN</td>\n",
       "      <td>NaN</td>\n",
       "      <td>NaN</td>\n",
       "      <td>10</td>\n",
       "      <td>NaN</td>\n",
       "      <td>NaN</td>\n",
       "      <td>NaN</td>\n",
       "      <td>6197</td>\n",
       "      <td>97.26</td>\n",
       "      <td>73100</td>\n",
       "      <td>153</td>\n",
       "      <td>1819</td>\n",
       "      <td>2025</td>\n",
       "      <td>50</td>\n",
       "    </tr>\n",
       "    <tr>\n",
       "      <th>...</th>\n",
       "      <td>...</td>\n",
       "      <td>...</td>\n",
       "      <td>...</td>\n",
       "      <td>...</td>\n",
       "      <td>...</td>\n",
       "      <td>...</td>\n",
       "      <td>...</td>\n",
       "      <td>...</td>\n",
       "      <td>...</td>\n",
       "      <td>...</td>\n",
       "      <td>...</td>\n",
       "      <td>...</td>\n",
       "      <td>...</td>\n",
       "      <td>...</td>\n",
       "      <td>...</td>\n",
       "      <td>...</td>\n",
       "      <td>...</td>\n",
       "      <td>...</td>\n",
       "      <td>...</td>\n",
       "      <td>...</td>\n",
       "      <td>...</td>\n",
       "      <td>...</td>\n",
       "      <td>...</td>\n",
       "      <td>...</td>\n",
       "      <td>...</td>\n",
       "      <td>...</td>\n",
       "      <td>...</td>\n",
       "      <td>...</td>\n",
       "      <td>...</td>\n",
       "      <td>...</td>\n",
       "      <td>...</td>\n",
       "      <td>...</td>\n",
       "      <td>...</td>\n",
       "      <td>...</td>\n",
       "      <td>...</td>\n",
       "      <td>...</td>\n",
       "      <td>...</td>\n",
       "      <td>...</td>\n",
       "      <td>...</td>\n",
       "      <td>...</td>\n",
       "      <td>...</td>\n",
       "      <td>...</td>\n",
       "      <td>...</td>\n",
       "      <td>...</td>\n",
       "      <td>...</td>\n",
       "      <td>...</td>\n",
       "      <td>...</td>\n",
       "      <td>...</td>\n",
       "      <td>...</td>\n",
       "      <td>...</td>\n",
       "      <td>...</td>\n",
       "      <td>...</td>\n",
       "      <td>...</td>\n",
       "      <td>...</td>\n",
       "      <td>...</td>\n",
       "      <td>...</td>\n",
       "      <td>...</td>\n",
       "      <td>...</td>\n",
       "      <td>...</td>\n",
       "      <td>...</td>\n",
       "      <td>...</td>\n",
       "      <td>...</td>\n",
       "      <td>...</td>\n",
       "      <td>...</td>\n",
       "      <td>...</td>\n",
       "      <td>...</td>\n",
       "      <td>...</td>\n",
       "      <td>...</td>\n",
       "      <td>...</td>\n",
       "      <td>...</td>\n",
       "      <td>...</td>\n",
       "      <td>...</td>\n",
       "      <td>...</td>\n",
       "      <td>...</td>\n",
       "      <td>...</td>\n",
       "      <td>...</td>\n",
       "      <td>...</td>\n",
       "      <td>...</td>\n",
       "      <td>...</td>\n",
       "      <td>...</td>\n",
       "      <td>...</td>\n",
       "      <td>...</td>\n",
       "      <td>...</td>\n",
       "      <td>...</td>\n",
       "      <td>...</td>\n",
       "      <td>...</td>\n",
       "      <td>...</td>\n",
       "      <td>...</td>\n",
       "      <td>...</td>\n",
       "      <td>...</td>\n",
       "      <td>...</td>\n",
       "      <td>...</td>\n",
       "      <td>...</td>\n",
       "      <td>...</td>\n",
       "      <td>...</td>\n",
       "      <td>...</td>\n",
       "      <td>...</td>\n",
       "      <td>...</td>\n",
       "      <td>...</td>\n",
       "    </tr>\n",
       "    <tr>\n",
       "      <th>995</th>\n",
       "      <td>2019</td>\n",
       "      <td>RVDPPPGHCGZ40J4VQ731</td>\n",
       "      <td>41180</td>\n",
       "      <td>MO</td>\n",
       "      <td>29189.0</td>\n",
       "      <td>29189219500</td>\n",
       "      <td>C</td>\n",
       "      <td>Conventional:First Lien</td>\n",
       "      <td>Single Family (1-4 Units):Site-Built</td>\n",
       "      <td>Not Hispanic or Latino</td>\n",
       "      <td>White</td>\n",
       "      <td>Joint</td>\n",
       "      <td>3</td>\n",
       "      <td>0</td>\n",
       "      <td>2</td>\n",
       "      <td>1</td>\n",
       "      <td>1</td>\n",
       "      <td>1</td>\n",
       "      <td>2</td>\n",
       "      <td>2</td>\n",
       "      <td>2</td>\n",
       "      <td>295000</td>\n",
       "      <td>80</td>\n",
       "      <td>NaN</td>\n",
       "      <td>NaN</td>\n",
       "      <td>3</td>\n",
       "      <td>NaN</td>\n",
       "      <td>NaN</td>\n",
       "      <td>NaN</td>\n",
       "      <td>NaN</td>\n",
       "      <td>NaN</td>\n",
       "      <td>360</td>\n",
       "      <td>NaN</td>\n",
       "      <td>NaN</td>\n",
       "      <td>2</td>\n",
       "      <td>2</td>\n",
       "      <td>2</td>\n",
       "      <td>2</td>\n",
       "      <td>365000</td>\n",
       "      <td>1</td>\n",
       "      <td>1</td>\n",
       "      <td>3</td>\n",
       "      <td>5</td>\n",
       "      <td>1</td>\n",
       "      <td>NaN</td>\n",
       "      <td>135.0</td>\n",
       "      <td>20%-&lt;30%</td>\n",
       "      <td>1</td>\n",
       "      <td>9</td>\n",
       "      <td>2</td>\n",
       "      <td>NaN</td>\n",
       "      <td>NaN</td>\n",
       "      <td>NaN</td>\n",
       "      <td>NaN</td>\n",
       "      <td>2</td>\n",
       "      <td>NaN</td>\n",
       "      <td>NaN</td>\n",
       "      <td>NaN</td>\n",
       "      <td>NaN</td>\n",
       "      <td>2</td>\n",
       "      <td>2</td>\n",
       "      <td>5</td>\n",
       "      <td>NaN</td>\n",
       "      <td>NaN</td>\n",
       "      <td>NaN</td>\n",
       "      <td>NaN</td>\n",
       "      <td>5</td>\n",
       "      <td>NaN</td>\n",
       "      <td>NaN</td>\n",
       "      <td>NaN</td>\n",
       "      <td>NaN</td>\n",
       "      <td>2</td>\n",
       "      <td>2</td>\n",
       "      <td>1</td>\n",
       "      <td>2</td>\n",
       "      <td>2</td>\n",
       "      <td>2</td>\n",
       "      <td>35-44</td>\n",
       "      <td>35-44</td>\n",
       "      <td>No</td>\n",
       "      <td>No</td>\n",
       "      <td>2</td>\n",
       "      <td>2</td>\n",
       "      <td>1</td>\n",
       "      <td>NaN</td>\n",
       "      <td>NaN</td>\n",
       "      <td>NaN</td>\n",
       "      <td>NaN</td>\n",
       "      <td>7</td>\n",
       "      <td>NaN</td>\n",
       "      <td>NaN</td>\n",
       "      <td>NaN</td>\n",
       "      <td>6684</td>\n",
       "      <td>7.20</td>\n",
       "      <td>81200</td>\n",
       "      <td>143</td>\n",
       "      <td>2199</td>\n",
       "      <td>2470</td>\n",
       "      <td>63</td>\n",
       "    </tr>\n",
       "    <tr>\n",
       "      <th>996</th>\n",
       "      <td>2019</td>\n",
       "      <td>RVDPPPGHCGZ40J4VQ731</td>\n",
       "      <td>34820</td>\n",
       "      <td>NC</td>\n",
       "      <td>37019.0</td>\n",
       "      <td>37019020103</td>\n",
       "      <td>C</td>\n",
       "      <td>FHA:First Lien</td>\n",
       "      <td>Single Family (1-4 Units):Site-Built</td>\n",
       "      <td>Ethnicity Not Available</td>\n",
       "      <td>Race Not Available</td>\n",
       "      <td>Sex Not Available</td>\n",
       "      <td>6</td>\n",
       "      <td>2</td>\n",
       "      <td>2</td>\n",
       "      <td>2</td>\n",
       "      <td>1</td>\n",
       "      <td>1</td>\n",
       "      <td>2</td>\n",
       "      <td>2</td>\n",
       "      <td>2</td>\n",
       "      <td>205000</td>\n",
       "      <td>NaN</td>\n",
       "      <td>4.75</td>\n",
       "      <td>NaN</td>\n",
       "      <td>2</td>\n",
       "      <td>6466.64</td>\n",
       "      <td>NaN</td>\n",
       "      <td>815</td>\n",
       "      <td>NaN</td>\n",
       "      <td>NaN</td>\n",
       "      <td>360</td>\n",
       "      <td>NaN</td>\n",
       "      <td>NaN</td>\n",
       "      <td>2</td>\n",
       "      <td>2</td>\n",
       "      <td>2</td>\n",
       "      <td>2</td>\n",
       "      <td>215000</td>\n",
       "      <td>1</td>\n",
       "      <td>1</td>\n",
       "      <td>3</td>\n",
       "      <td>5</td>\n",
       "      <td>1</td>\n",
       "      <td>NaN</td>\n",
       "      <td>NaN</td>\n",
       "      <td>NaN</td>\n",
       "      <td>9</td>\n",
       "      <td>9</td>\n",
       "      <td>4</td>\n",
       "      <td>NaN</td>\n",
       "      <td>NaN</td>\n",
       "      <td>NaN</td>\n",
       "      <td>NaN</td>\n",
       "      <td>4</td>\n",
       "      <td>NaN</td>\n",
       "      <td>NaN</td>\n",
       "      <td>NaN</td>\n",
       "      <td>NaN</td>\n",
       "      <td>3</td>\n",
       "      <td>3</td>\n",
       "      <td>7</td>\n",
       "      <td>NaN</td>\n",
       "      <td>NaN</td>\n",
       "      <td>NaN</td>\n",
       "      <td>NaN</td>\n",
       "      <td>7</td>\n",
       "      <td>NaN</td>\n",
       "      <td>NaN</td>\n",
       "      <td>NaN</td>\n",
       "      <td>NaN</td>\n",
       "      <td>3</td>\n",
       "      <td>3</td>\n",
       "      <td>4</td>\n",
       "      <td>4</td>\n",
       "      <td>3</td>\n",
       "      <td>3</td>\n",
       "      <td>8888</td>\n",
       "      <td>8888</td>\n",
       "      <td>NaN</td>\n",
       "      <td>NaN</td>\n",
       "      <td>3</td>\n",
       "      <td>3</td>\n",
       "      <td>6</td>\n",
       "      <td>NaN</td>\n",
       "      <td>NaN</td>\n",
       "      <td>NaN</td>\n",
       "      <td>NaN</td>\n",
       "      <td>10</td>\n",
       "      <td>NaN</td>\n",
       "      <td>NaN</td>\n",
       "      <td>NaN</td>\n",
       "      <td>8057</td>\n",
       "      <td>21.39</td>\n",
       "      <td>62500</td>\n",
       "      <td>118</td>\n",
       "      <td>2716</td>\n",
       "      <td>3813</td>\n",
       "      <td>12</td>\n",
       "    </tr>\n",
       "    <tr>\n",
       "      <th>997</th>\n",
       "      <td>2019</td>\n",
       "      <td>RVDPPPGHCGZ40J4VQ731</td>\n",
       "      <td>41180</td>\n",
       "      <td>MO</td>\n",
       "      <td>29189.0</td>\n",
       "      <td>29189215301</td>\n",
       "      <td>C</td>\n",
       "      <td>Conventional:First Lien</td>\n",
       "      <td>Single Family (1-4 Units):Site-Built</td>\n",
       "      <td>Not Hispanic or Latino</td>\n",
       "      <td>White</td>\n",
       "      <td>Joint</td>\n",
       "      <td>1</td>\n",
       "      <td>0</td>\n",
       "      <td>2</td>\n",
       "      <td>1</td>\n",
       "      <td>1</td>\n",
       "      <td>1</td>\n",
       "      <td>2</td>\n",
       "      <td>2</td>\n",
       "      <td>2</td>\n",
       "      <td>435000</td>\n",
       "      <td>77.06</td>\n",
       "      <td>4.5</td>\n",
       "      <td>0.533</td>\n",
       "      <td>2</td>\n",
       "      <td>3279.9</td>\n",
       "      <td>NaN</td>\n",
       "      <td>860</td>\n",
       "      <td>NaN</td>\n",
       "      <td>1060</td>\n",
       "      <td>360</td>\n",
       "      <td>NaN</td>\n",
       "      <td>NaN</td>\n",
       "      <td>2</td>\n",
       "      <td>2</td>\n",
       "      <td>2</td>\n",
       "      <td>2</td>\n",
       "      <td>565000</td>\n",
       "      <td>1</td>\n",
       "      <td>1</td>\n",
       "      <td>3</td>\n",
       "      <td>5</td>\n",
       "      <td>1</td>\n",
       "      <td>NaN</td>\n",
       "      <td>230.0</td>\n",
       "      <td>44</td>\n",
       "      <td>9</td>\n",
       "      <td>1</td>\n",
       "      <td>2</td>\n",
       "      <td>NaN</td>\n",
       "      <td>NaN</td>\n",
       "      <td>NaN</td>\n",
       "      <td>NaN</td>\n",
       "      <td>2</td>\n",
       "      <td>NaN</td>\n",
       "      <td>NaN</td>\n",
       "      <td>NaN</td>\n",
       "      <td>NaN</td>\n",
       "      <td>2</td>\n",
       "      <td>2</td>\n",
       "      <td>5</td>\n",
       "      <td>NaN</td>\n",
       "      <td>NaN</td>\n",
       "      <td>NaN</td>\n",
       "      <td>NaN</td>\n",
       "      <td>5</td>\n",
       "      <td>NaN</td>\n",
       "      <td>NaN</td>\n",
       "      <td>NaN</td>\n",
       "      <td>NaN</td>\n",
       "      <td>2</td>\n",
       "      <td>2</td>\n",
       "      <td>1</td>\n",
       "      <td>2</td>\n",
       "      <td>2</td>\n",
       "      <td>2</td>\n",
       "      <td>35-44</td>\n",
       "      <td>25-34</td>\n",
       "      <td>No</td>\n",
       "      <td>No</td>\n",
       "      <td>2</td>\n",
       "      <td>2</td>\n",
       "      <td>1</td>\n",
       "      <td>NaN</td>\n",
       "      <td>NaN</td>\n",
       "      <td>NaN</td>\n",
       "      <td>NaN</td>\n",
       "      <td>10</td>\n",
       "      <td>NaN</td>\n",
       "      <td>NaN</td>\n",
       "      <td>NaN</td>\n",
       "      <td>4411</td>\n",
       "      <td>19.88</td>\n",
       "      <td>81200</td>\n",
       "      <td>211</td>\n",
       "      <td>1561</td>\n",
       "      <td>1361</td>\n",
       "      <td>40</td>\n",
       "    </tr>\n",
       "    <tr>\n",
       "      <th>998</th>\n",
       "      <td>2019</td>\n",
       "      <td>RVDPPPGHCGZ40J4VQ731</td>\n",
       "      <td>36260</td>\n",
       "      <td>UT</td>\n",
       "      <td>49057.0</td>\n",
       "      <td>49057210506</td>\n",
       "      <td>C</td>\n",
       "      <td>FHA:First Lien</td>\n",
       "      <td>Single Family (1-4 Units):Site-Built</td>\n",
       "      <td>Ethnicity Not Available</td>\n",
       "      <td>Race Not Available</td>\n",
       "      <td>Sex Not Available</td>\n",
       "      <td>6</td>\n",
       "      <td>2</td>\n",
       "      <td>2</td>\n",
       "      <td>2</td>\n",
       "      <td>1</td>\n",
       "      <td>1</td>\n",
       "      <td>2</td>\n",
       "      <td>2</td>\n",
       "      <td>2</td>\n",
       "      <td>245000</td>\n",
       "      <td>NaN</td>\n",
       "      <td>5</td>\n",
       "      <td>NaN</td>\n",
       "      <td>2</td>\n",
       "      <td>9217.55</td>\n",
       "      <td>NaN</td>\n",
       "      <td>3060.9</td>\n",
       "      <td>NaN</td>\n",
       "      <td>NaN</td>\n",
       "      <td>360</td>\n",
       "      <td>NaN</td>\n",
       "      <td>NaN</td>\n",
       "      <td>2</td>\n",
       "      <td>2</td>\n",
       "      <td>2</td>\n",
       "      <td>2</td>\n",
       "      <td>255000</td>\n",
       "      <td>1</td>\n",
       "      <td>1</td>\n",
       "      <td>3</td>\n",
       "      <td>5</td>\n",
       "      <td>1</td>\n",
       "      <td>NaN</td>\n",
       "      <td>NaN</td>\n",
       "      <td>NaN</td>\n",
       "      <td>9</td>\n",
       "      <td>9</td>\n",
       "      <td>4</td>\n",
       "      <td>NaN</td>\n",
       "      <td>NaN</td>\n",
       "      <td>NaN</td>\n",
       "      <td>NaN</td>\n",
       "      <td>4</td>\n",
       "      <td>NaN</td>\n",
       "      <td>NaN</td>\n",
       "      <td>NaN</td>\n",
       "      <td>NaN</td>\n",
       "      <td>3</td>\n",
       "      <td>3</td>\n",
       "      <td>7</td>\n",
       "      <td>NaN</td>\n",
       "      <td>NaN</td>\n",
       "      <td>NaN</td>\n",
       "      <td>NaN</td>\n",
       "      <td>7</td>\n",
       "      <td>NaN</td>\n",
       "      <td>NaN</td>\n",
       "      <td>NaN</td>\n",
       "      <td>NaN</td>\n",
       "      <td>3</td>\n",
       "      <td>3</td>\n",
       "      <td>4</td>\n",
       "      <td>4</td>\n",
       "      <td>3</td>\n",
       "      <td>3</td>\n",
       "      <td>8888</td>\n",
       "      <td>8888</td>\n",
       "      <td>NaN</td>\n",
       "      <td>NaN</td>\n",
       "      <td>3</td>\n",
       "      <td>3</td>\n",
       "      <td>6</td>\n",
       "      <td>NaN</td>\n",
       "      <td>NaN</td>\n",
       "      <td>NaN</td>\n",
       "      <td>NaN</td>\n",
       "      <td>10</td>\n",
       "      <td>NaN</td>\n",
       "      <td>NaN</td>\n",
       "      <td>NaN</td>\n",
       "      <td>11512</td>\n",
       "      <td>28.24</td>\n",
       "      <td>83200</td>\n",
       "      <td>100</td>\n",
       "      <td>2840</td>\n",
       "      <td>3153</td>\n",
       "      <td>17</td>\n",
       "    </tr>\n",
       "    <tr>\n",
       "      <th>999</th>\n",
       "      <td>2019</td>\n",
       "      <td>RVDPPPGHCGZ40J4VQ731</td>\n",
       "      <td>38300</td>\n",
       "      <td>PA</td>\n",
       "      <td>42007.0</td>\n",
       "      <td>42007602601</td>\n",
       "      <td>C</td>\n",
       "      <td>VA:First Lien</td>\n",
       "      <td>Single Family (1-4 Units):Site-Built</td>\n",
       "      <td>Ethnicity Not Available</td>\n",
       "      <td>Race Not Available</td>\n",
       "      <td>Sex Not Available</td>\n",
       "      <td>6</td>\n",
       "      <td>2</td>\n",
       "      <td>2</td>\n",
       "      <td>3</td>\n",
       "      <td>1</td>\n",
       "      <td>1</td>\n",
       "      <td>2</td>\n",
       "      <td>2</td>\n",
       "      <td>2</td>\n",
       "      <td>105000</td>\n",
       "      <td>NaN</td>\n",
       "      <td>4.75</td>\n",
       "      <td>NaN</td>\n",
       "      <td>2</td>\n",
       "      <td>2560.18</td>\n",
       "      <td>NaN</td>\n",
       "      <td>450</td>\n",
       "      <td>NaN</td>\n",
       "      <td>NaN</td>\n",
       "      <td>360</td>\n",
       "      <td>NaN</td>\n",
       "      <td>NaN</td>\n",
       "      <td>2</td>\n",
       "      <td>2</td>\n",
       "      <td>2</td>\n",
       "      <td>2</td>\n",
       "      <td>105000</td>\n",
       "      <td>1</td>\n",
       "      <td>1</td>\n",
       "      <td>3</td>\n",
       "      <td>5</td>\n",
       "      <td>1</td>\n",
       "      <td>NaN</td>\n",
       "      <td>NaN</td>\n",
       "      <td>NaN</td>\n",
       "      <td>9</td>\n",
       "      <td>9</td>\n",
       "      <td>4</td>\n",
       "      <td>NaN</td>\n",
       "      <td>NaN</td>\n",
       "      <td>NaN</td>\n",
       "      <td>NaN</td>\n",
       "      <td>4</td>\n",
       "      <td>NaN</td>\n",
       "      <td>NaN</td>\n",
       "      <td>NaN</td>\n",
       "      <td>NaN</td>\n",
       "      <td>3</td>\n",
       "      <td>3</td>\n",
       "      <td>7</td>\n",
       "      <td>NaN</td>\n",
       "      <td>NaN</td>\n",
       "      <td>NaN</td>\n",
       "      <td>NaN</td>\n",
       "      <td>7</td>\n",
       "      <td>NaN</td>\n",
       "      <td>NaN</td>\n",
       "      <td>NaN</td>\n",
       "      <td>NaN</td>\n",
       "      <td>3</td>\n",
       "      <td>3</td>\n",
       "      <td>4</td>\n",
       "      <td>4</td>\n",
       "      <td>3</td>\n",
       "      <td>3</td>\n",
       "      <td>8888</td>\n",
       "      <td>8888</td>\n",
       "      <td>NaN</td>\n",
       "      <td>NaN</td>\n",
       "      <td>3</td>\n",
       "      <td>3</td>\n",
       "      <td>6</td>\n",
       "      <td>NaN</td>\n",
       "      <td>NaN</td>\n",
       "      <td>NaN</td>\n",
       "      <td>NaN</td>\n",
       "      <td>10</td>\n",
       "      <td>NaN</td>\n",
       "      <td>NaN</td>\n",
       "      <td>NaN</td>\n",
       "      <td>4929</td>\n",
       "      <td>5.52</td>\n",
       "      <td>79300</td>\n",
       "      <td>119</td>\n",
       "      <td>1628</td>\n",
       "      <td>1927</td>\n",
       "      <td>50</td>\n",
       "    </tr>\n",
       "  </tbody>\n",
       "</table>\n",
       "<p>1000 rows × 99 columns</p>\n",
       "</div>"
      ],
      "text/plain": [
       "     activity_year                   lei  derived_msa-md state_code  \\\n",
       "0             2019  5493001K7B4W8IPMZ254           31084         CA   \n",
       "1             2019  5493001K7B4W8IPMZ254           31084         CA   \n",
       "2             2019  5493001K7B4W8IPMZ254           31084         CA   \n",
       "3             2019  5493001K7B4W8IPMZ254           40140         CA   \n",
       "4             2019  5493001K7B4W8IPMZ254           31084         CA   \n",
       "..             ...                   ...             ...        ...   \n",
       "995           2019  RVDPPPGHCGZ40J4VQ731           41180         MO   \n",
       "996           2019  RVDPPPGHCGZ40J4VQ731           34820         NC   \n",
       "997           2019  RVDPPPGHCGZ40J4VQ731           41180         MO   \n",
       "998           2019  RVDPPPGHCGZ40J4VQ731           36260         UT   \n",
       "999           2019  RVDPPPGHCGZ40J4VQ731           38300         PA   \n",
       "\n",
       "     county_code  census_tract conforming_loan_limit  \\\n",
       "0         6037.0    6037920032                     C   \n",
       "1         6037.0    6037920334                     C   \n",
       "2         6037.0    6037211120                     C   \n",
       "3         6071.0    6071010024                     C   \n",
       "4         6037.0    6037543304                     C   \n",
       "..           ...           ...                   ...   \n",
       "995      29189.0   29189219500                     C   \n",
       "996      37019.0   37019020103                     C   \n",
       "997      29189.0   29189215301                     C   \n",
       "998      49057.0   49057210506                     C   \n",
       "999      42007.0   42007602601                     C   \n",
       "\n",
       "    derived_loan_product_type             derived_dwelling_category  \\\n",
       "0     Conventional:First Lien  Single Family (1-4 Units):Site-Built   \n",
       "1     Conventional:First Lien  Single Family (1-4 Units):Site-Built   \n",
       "2     Conventional:First Lien  Single Family (1-4 Units):Site-Built   \n",
       "3              FHA:First Lien  Single Family (1-4 Units):Site-Built   \n",
       "4              FHA:First Lien  Single Family (1-4 Units):Site-Built   \n",
       "..                        ...                                   ...   \n",
       "995   Conventional:First Lien  Single Family (1-4 Units):Site-Built   \n",
       "996            FHA:First Lien  Single Family (1-4 Units):Site-Built   \n",
       "997   Conventional:First Lien  Single Family (1-4 Units):Site-Built   \n",
       "998            FHA:First Lien  Single Family (1-4 Units):Site-Built   \n",
       "999             VA:First Lien  Single Family (1-4 Units):Site-Built   \n",
       "\n",
       "           derived_ethnicity               derived_race        derived_sex  \\\n",
       "0     Not Hispanic or Latino                      Asian               Male   \n",
       "1    Ethnicity Not Available                      Asian               Male   \n",
       "2    Ethnicity Not Available         Race Not Available  Sex Not Available   \n",
       "3         Hispanic or Latino         Race Not Available              Joint   \n",
       "4    Ethnicity Not Available  Black or African American              Joint   \n",
       "..                       ...                        ...                ...   \n",
       "995   Not Hispanic or Latino                      White              Joint   \n",
       "996  Ethnicity Not Available         Race Not Available  Sex Not Available   \n",
       "997   Not Hispanic or Latino                      White              Joint   \n",
       "998  Ethnicity Not Available         Race Not Available  Sex Not Available   \n",
       "999  Ethnicity Not Available         Race Not Available  Sex Not Available   \n",
       "\n",
       "     action_taken  purchaser_type  preapproval  loan_type  loan_purpose  \\\n",
       "0               1               1            1          1             1   \n",
       "1               1               9            1          1             1   \n",
       "2               1               0            1          1             1   \n",
       "3               1               2            2          2            32   \n",
       "4               1               2            1          2             1   \n",
       "..            ...             ...          ...        ...           ...   \n",
       "995             3               0            2          1             1   \n",
       "996             6               2            2          2             1   \n",
       "997             1               0            2          1             1   \n",
       "998             6               2            2          2             1   \n",
       "999             6               2            2          3             1   \n",
       "\n",
       "     lien_status  reverse_mortgage  open-end_line_of_credit  \\\n",
       "0              1                 2                        2   \n",
       "1              1                 2                        2   \n",
       "2              1                 2                        2   \n",
       "3              1                 2                        2   \n",
       "4              1                 2                        2   \n",
       "..           ...               ...                      ...   \n",
       "995            1                 2                        2   \n",
       "996            1                 2                        2   \n",
       "997            1                 2                        2   \n",
       "998            1                 2                        2   \n",
       "999            1                 2                        2   \n",
       "\n",
       "     business_or_commercial_purpose  loan_amount loan_to_value_ratio  \\\n",
       "0                                 2       455000               55.47   \n",
       "1                                 2       225000                  70   \n",
       "2                                 2       235000                  60   \n",
       "3                                 2       305000               79.73   \n",
       "4                                 2       605000                  95   \n",
       "..                              ...          ...                 ...   \n",
       "995                               2       295000                  80   \n",
       "996                               2       205000                 NaN   \n",
       "997                               2       435000               77.06   \n",
       "998                               2       245000                 NaN   \n",
       "999                               2       105000                 NaN   \n",
       "\n",
       "    interest_rate rate_spread  hoepa_status total_loan_costs  \\\n",
       "0               4       -0.22             2           5398.4   \n",
       "1            5.75       1.914             2            11373   \n",
       "2           5.375       1.027             2             7833   \n",
       "3           4.625       0.636             2           9375.4   \n",
       "4               4       0.207             2         17581.96   \n",
       "..            ...         ...           ...              ...   \n",
       "995           NaN         NaN             3              NaN   \n",
       "996          4.75         NaN             2          6466.64   \n",
       "997           4.5       0.533             2           3279.9   \n",
       "998             5         NaN             2          9217.55   \n",
       "999          4.75         NaN             2          2560.18   \n",
       "\n",
       "    total_points_and_fees origination_charges discount_points lender_credits  \\\n",
       "0                     NaN                2090             NaN            NaN   \n",
       "1                     NaN                6840             NaN            NaN   \n",
       "2                     NaN                2875             NaN            NaN   \n",
       "3                     NaN              2812.5             NaN            NaN   \n",
       "4                     NaN                2290             NaN            NaN   \n",
       "..                    ...                 ...             ...            ...   \n",
       "995                   NaN                 NaN             NaN            NaN   \n",
       "996                   NaN                 815             NaN            NaN   \n",
       "997                   NaN                 860             NaN           1060   \n",
       "998                   NaN              3060.9             NaN            NaN   \n",
       "999                   NaN                 450             NaN            NaN   \n",
       "\n",
       "    loan_term prepayment_penalty_term intro_rate_period  \\\n",
       "0         360                     NaN               NaN   \n",
       "1         360                     NaN               NaN   \n",
       "2         360                     NaN                84   \n",
       "3         360                     NaN               NaN   \n",
       "4         360                     NaN               NaN   \n",
       "..        ...                     ...               ...   \n",
       "995       360                     NaN               NaN   \n",
       "996       360                     NaN               NaN   \n",
       "997       360                     NaN               NaN   \n",
       "998       360                     NaN               NaN   \n",
       "999       360                     NaN               NaN   \n",
       "\n",
       "     negative_amortization  interest_only_payment  balloon_payment  \\\n",
       "0                        2                      2                2   \n",
       "1                        2                      2                2   \n",
       "2                        2                      2                2   \n",
       "3                        2                      2                2   \n",
       "4                        2                      2                2   \n",
       "..                     ...                    ...              ...   \n",
       "995                      2                      2                2   \n",
       "996                      2                      2                2   \n",
       "997                      2                      2                2   \n",
       "998                      2                      2                2   \n",
       "999                      2                      2                2   \n",
       "\n",
       "     other_nonamortizing_features property_value  construction_method  \\\n",
       "0                               2         825000                    1   \n",
       "1                               2         325000                    1   \n",
       "2                               2         395000                    1   \n",
       "3                               2         375000                    1   \n",
       "4                               2         645000                    1   \n",
       "..                            ...            ...                  ...   \n",
       "995                             2         365000                    1   \n",
       "996                             2         215000                    1   \n",
       "997                             2         565000                    1   \n",
       "998                             2         255000                    1   \n",
       "999                             2         105000                    1   \n",
       "\n",
       "     occupancy_type  manufactured_home_secured_property_type  \\\n",
       "0                 1                                        3   \n",
       "1                 1                                        3   \n",
       "2                 1                                        3   \n",
       "3                 1                                        3   \n",
       "4                 1                                        3   \n",
       "..              ...                                      ...   \n",
       "995               1                                        3   \n",
       "996               1                                        3   \n",
       "997               1                                        3   \n",
       "998               1                                        3   \n",
       "999               1                                        3   \n",
       "\n",
       "     manufactured_home_land_property_interest total_units  \\\n",
       "0                                           5           1   \n",
       "1                                           5           1   \n",
       "2                                           5           1   \n",
       "3                                           5           1   \n",
       "4                                           5           1   \n",
       "..                                        ...         ...   \n",
       "995                                         5           1   \n",
       "996                                         5           1   \n",
       "997                                         5           1   \n",
       "998                                         5           1   \n",
       "999                                         5           1   \n",
       "\n",
       "    multifamily_affordable_units  income debt_to_income_ratio  \\\n",
       "0                            NaN     8.0                   45   \n",
       "1                            NaN     5.0                   45   \n",
       "2                            NaN     6.0                   41   \n",
       "3                            NaN     7.0                   42   \n",
       "4                            NaN    15.0              50%-60%   \n",
       "..                           ...     ...                  ...   \n",
       "995                          NaN   135.0             20%-<30%   \n",
       "996                          NaN     NaN                  NaN   \n",
       "997                          NaN   230.0                   44   \n",
       "998                          NaN     NaN                  NaN   \n",
       "999                          NaN     NaN                  NaN   \n",
       "\n",
       "     applicant_credit_score_type  co-applicant_credit_score_type  \\\n",
       "0                              2                              10   \n",
       "1                              2                              10   \n",
       "2                              1                              10   \n",
       "3                              3                               3   \n",
       "4                              2                               2   \n",
       "..                           ...                             ...   \n",
       "995                            1                               9   \n",
       "996                            9                               9   \n",
       "997                            9                               1   \n",
       "998                            9                               9   \n",
       "999                            9                               9   \n",
       "\n",
       "     applicant_ethnicity-1  applicant_ethnicity-2  applicant_ethnicity-3  \\\n",
       "0                        2                    NaN                    NaN   \n",
       "1                        3                    NaN                    NaN   \n",
       "2                        3                    NaN                    NaN   \n",
       "3                        1                   14.0                    NaN   \n",
       "4                        3                    NaN                    NaN   \n",
       "..                     ...                    ...                    ...   \n",
       "995                      2                    NaN                    NaN   \n",
       "996                      4                    NaN                    NaN   \n",
       "997                      2                    NaN                    NaN   \n",
       "998                      4                    NaN                    NaN   \n",
       "999                      4                    NaN                    NaN   \n",
       "\n",
       "     applicant_ethnicity-4  applicant_ethnicity-5  co-applicant_ethnicity-1  \\\n",
       "0                      NaN                    NaN                         4   \n",
       "1                      NaN                    NaN                         4   \n",
       "2                      NaN                    NaN                         4   \n",
       "3                      NaN                    NaN                         1   \n",
       "4                      NaN                    NaN                         3   \n",
       "..                     ...                    ...                       ...   \n",
       "995                    NaN                    NaN                         2   \n",
       "996                    NaN                    NaN                         4   \n",
       "997                    NaN                    NaN                         2   \n",
       "998                    NaN                    NaN                         4   \n",
       "999                    NaN                    NaN                         4   \n",
       "\n",
       "     co-applicant_ethnicity-2  co-applicant_ethnicity-3  \\\n",
       "0                         NaN                       NaN   \n",
       "1                         NaN                       NaN   \n",
       "2                         NaN                       NaN   \n",
       "3                        14.0                       NaN   \n",
       "4                         NaN                       NaN   \n",
       "..                        ...                       ...   \n",
       "995                       NaN                       NaN   \n",
       "996                       NaN                       NaN   \n",
       "997                       NaN                       NaN   \n",
       "998                       NaN                       NaN   \n",
       "999                       NaN                       NaN   \n",
       "\n",
       "     co-applicant_ethnicity-4  co-applicant_ethnicity-5  \\\n",
       "0                         NaN                       NaN   \n",
       "1                         NaN                       NaN   \n",
       "2                         NaN                       NaN   \n",
       "3                         NaN                       NaN   \n",
       "4                         NaN                       NaN   \n",
       "..                        ...                       ...   \n",
       "995                       NaN                       NaN   \n",
       "996                       NaN                       NaN   \n",
       "997                       NaN                       NaN   \n",
       "998                       NaN                       NaN   \n",
       "999                       NaN                       NaN   \n",
       "\n",
       "     applicant_ethnicity_observed  co-applicant_ethnicity_observed  \\\n",
       "0                               2                                3   \n",
       "1                               2                                3   \n",
       "2                               2                                3   \n",
       "3                               3                                3   \n",
       "4                               3                                3   \n",
       "..                            ...                              ...   \n",
       "995                             2                                2   \n",
       "996                             3                                3   \n",
       "997                             2                                2   \n",
       "998                             3                                3   \n",
       "999                             3                                3   \n",
       "\n",
       "     applicant_race-1  applicant_race-2  applicant_race-3  applicant_race-4  \\\n",
       "0                   2              25.0               NaN               NaN   \n",
       "1                   2              27.0               NaN               NaN   \n",
       "2                   6               NaN               NaN               NaN   \n",
       "3                   6               NaN               NaN               NaN   \n",
       "4                   3               NaN               NaN               NaN   \n",
       "..                ...               ...               ...               ...   \n",
       "995                 5               NaN               NaN               NaN   \n",
       "996                 7               NaN               NaN               NaN   \n",
       "997                 5               NaN               NaN               NaN   \n",
       "998                 7               NaN               NaN               NaN   \n",
       "999                 7               NaN               NaN               NaN   \n",
       "\n",
       "     applicant_race-5  co-applicant_race-1  co-applicant_race-2  \\\n",
       "0                 NaN                    6                  NaN   \n",
       "1                 NaN                    6                  NaN   \n",
       "2                 NaN                    6                  NaN   \n",
       "3                 NaN                    6                  NaN   \n",
       "4                 NaN                    3                  NaN   \n",
       "..                ...                  ...                  ...   \n",
       "995               NaN                    5                  NaN   \n",
       "996               NaN                    7                  NaN   \n",
       "997               NaN                    5                  NaN   \n",
       "998               NaN                    7                  NaN   \n",
       "999               NaN                    7                  NaN   \n",
       "\n",
       "     co-applicant_race-3  co-applicant_race-4  co-applicant_race-5  \\\n",
       "0                    NaN                  NaN                  NaN   \n",
       "1                    NaN                  NaN                  NaN   \n",
       "2                    NaN                  NaN                  NaN   \n",
       "3                    NaN                  NaN                  NaN   \n",
       "4                    NaN                  NaN                  NaN   \n",
       "..                   ...                  ...                  ...   \n",
       "995                  NaN                  NaN                  NaN   \n",
       "996                  NaN                  NaN                  NaN   \n",
       "997                  NaN                  NaN                  NaN   \n",
       "998                  NaN                  NaN                  NaN   \n",
       "999                  NaN                  NaN                  NaN   \n",
       "\n",
       "     applicant_race_observed  co-applicant_race_observed  applicant_sex  \\\n",
       "0                          2                           3              1   \n",
       "1                          2                           3              1   \n",
       "2                          2                           3              3   \n",
       "3                          3                           3              1   \n",
       "4                          3                           3              1   \n",
       "..                       ...                         ...            ...   \n",
       "995                        2                           2              1   \n",
       "996                        3                           3              4   \n",
       "997                        2                           2              1   \n",
       "998                        3                           3              4   \n",
       "999                        3                           3              4   \n",
       "\n",
       "     co-applicant_sex  applicant_sex_observed  co-applicant_sex_observed  \\\n",
       "0                   4                       2                          3   \n",
       "1                   4                       2                          3   \n",
       "2                   4                       2                          3   \n",
       "3                   2                       3                          3   \n",
       "4                   2                       3                          3   \n",
       "..                ...                     ...                        ...   \n",
       "995                 2                       2                          2   \n",
       "996                 4                       3                          3   \n",
       "997                 2                       2                          2   \n",
       "998                 4                       3                          3   \n",
       "999                 4                       3                          3   \n",
       "\n",
       "    applicant_age co-applicant_age applicant_age_above_62  \\\n",
       "0           45-54             9999                     No   \n",
       "1           45-54             9999                     No   \n",
       "2           55-64             9999                     No   \n",
       "3           35-44            35-44                     No   \n",
       "4           25-34            25-34                     No   \n",
       "..            ...              ...                    ...   \n",
       "995         35-44            35-44                     No   \n",
       "996          8888             8888                    NaN   \n",
       "997         35-44            25-34                     No   \n",
       "998          8888             8888                    NaN   \n",
       "999          8888             8888                    NaN   \n",
       "\n",
       "    co-applicant_age_above_62  submission_of_application  \\\n",
       "0                         NaN                          1   \n",
       "1                         NaN                          1   \n",
       "2                         NaN                          1   \n",
       "3                          No                          1   \n",
       "4                          No                          1   \n",
       "..                        ...                        ...   \n",
       "995                        No                          2   \n",
       "996                       NaN                          3   \n",
       "997                        No                          2   \n",
       "998                       NaN                          3   \n",
       "999                       NaN                          3   \n",
       "\n",
       "     initially_payable_to_institution  aus-1  aus-2  aus-3  aus-4  aus-5  \\\n",
       "0                                   1      1    NaN    NaN    NaN    NaN   \n",
       "1                                   1      6    NaN    NaN    NaN    NaN   \n",
       "2                                   1      6    NaN    NaN    NaN    NaN   \n",
       "3                                   1      3    NaN    NaN    NaN    NaN   \n",
       "4                                   1      3    NaN    NaN    NaN    NaN   \n",
       "..                                ...    ...    ...    ...    ...    ...   \n",
       "995                                 2      1    NaN    NaN    NaN    NaN   \n",
       "996                                 3      6    NaN    NaN    NaN    NaN   \n",
       "997                                 2      1    NaN    NaN    NaN    NaN   \n",
       "998                                 3      6    NaN    NaN    NaN    NaN   \n",
       "999                                 3      6    NaN    NaN    NaN    NaN   \n",
       "\n",
       "     denial_reason-1  denial_reason-2  denial_reason-3  denial_reason-4  \\\n",
       "0                 10              NaN              NaN              NaN   \n",
       "1                 10              NaN              NaN              NaN   \n",
       "2                 10              NaN              NaN              NaN   \n",
       "3                 10              NaN              NaN              NaN   \n",
       "4                 10              NaN              NaN              NaN   \n",
       "..               ...              ...              ...              ...   \n",
       "995                7              NaN              NaN              NaN   \n",
       "996               10              NaN              NaN              NaN   \n",
       "997               10              NaN              NaN              NaN   \n",
       "998               10              NaN              NaN              NaN   \n",
       "999               10              NaN              NaN              NaN   \n",
       "\n",
       "     tract_population  tract_minority_population_percent  \\\n",
       "0                3230                              42.63   \n",
       "1                6263                              36.79   \n",
       "2                5174                              89.54   \n",
       "3                5459                              40.21   \n",
       "4                6197                              97.26   \n",
       "..                ...                                ...   \n",
       "995              6684                               7.20   \n",
       "996              8057                              21.39   \n",
       "997              4411                              19.88   \n",
       "998             11512                              28.24   \n",
       "999              4929                               5.52   \n",
       "\n",
       "     ffiec_msa_md_median_family_income  tract_to_msa_income_percentage  \\\n",
       "0                                73100                             218   \n",
       "1                                73100                             144   \n",
       "2                                73100                              64   \n",
       "3                                69700                             108   \n",
       "4                                73100                             153   \n",
       "..                                 ...                             ...   \n",
       "995                              81200                             143   \n",
       "996                              62500                             118   \n",
       "997                              81200                             211   \n",
       "998                              83200                             100   \n",
       "999                              79300                             119   \n",
       "\n",
       "     tract_owner_occupied_units  tract_one_to_four_family_homes  \\\n",
       "0                           781                             871   \n",
       "1                          1435                            1584   \n",
       "2                           166                              62   \n",
       "3                          1409                            1751   \n",
       "4                          1819                            2025   \n",
       "..                          ...                             ...   \n",
       "995                        2199                            2470   \n",
       "996                        2716                            3813   \n",
       "997                        1561                            1361   \n",
       "998                        2840                            3153   \n",
       "999                        1628                            1927   \n",
       "\n",
       "     tract_median_age_of_housing_units  \n",
       "0                                   14  \n",
       "1                                   40  \n",
       "2                                   33  \n",
       "3                                   29  \n",
       "4                                   50  \n",
       "..                                 ...  \n",
       "995                                 63  \n",
       "996                                 12  \n",
       "997                                 40  \n",
       "998                                 17  \n",
       "999                                 50  \n",
       "\n",
       "[1000 rows x 99 columns]"
      ]
     },
     "metadata": {},
     "output_type": "display_data"
    }
   ],
   "source": [
    "hmda_data = pd.read_csv('../data/hmda_short.csv')\n",
    "pd.set_option('display.max_columns', 99)\n",
    "display(hmda_data)"
   ]
  },
  {
   "cell_type": "code",
   "execution_count": 59,
   "metadata": {},
   "outputs": [
    {
     "name": "stdout",
     "output_type": "stream",
     "text": [
      "   state_code    loan_amount\n",
      "0          AL  167105.263158\n",
      "1          AR  140000.000000\n",
      "2          AZ  162500.000000\n",
      "3          CA  407628.865979\n",
      "4          CO  341153.846154\n",
      "5          DC  655000.000000\n",
      "6          DE  185000.000000\n",
      "7          FL  238125.000000\n",
      "8          GA  275384.615385\n",
      "9          IA  139000.000000\n",
      "10         ID   65000.000000\n",
      "11         IL  233750.000000\n",
      "12         IN  188333.333333\n",
      "13         KS  102500.000000\n",
      "14         KY  271000.000000\n",
      "15         LA  210308.641975\n",
      "16         MA  475000.000000\n",
      "17         MD  262333.333333\n",
      "18         MI  149000.000000\n",
      "19         MN  183000.000000\n",
      "20         MO  201000.000000\n",
      "21         MS  135000.000000\n",
      "22         MT  385000.000000\n",
      "23         NC  207857.142857\n",
      "24         NE  145000.000000\n",
      "25         NJ  319000.000000\n",
      "26         NM  155000.000000\n",
      "27         NV  235000.000000\n",
      "28         NY  225000.000000\n",
      "29         OH  196111.111111\n",
      "30         OK  172500.000000\n",
      "31         OR  131250.000000\n",
      "32         PA  167641.509434\n",
      "33         SC  233000.000000\n",
      "34         SD  215000.000000\n",
      "35         TN  220000.000000\n",
      "36         TX  232692.307692\n",
      "37         UT  272142.857143\n",
      "38         VA  326764.705882\n",
      "39         WA  139776.119403\n",
      "40         WI  253000.000000\n",
      "41         WV  135000.000000\n",
      "42         WY  275000.000000\n"
     ]
    }
   ],
   "source": [
    "grouped_df = hmda_data.groupby(\"state_code\")\n",
    "mean_df = grouped_df[\"loan_amount\"].mean()\n",
    "mean_df = mean_df.reset_index()\n",
    "print(mean_df)"
   ]
  },
  {
   "cell_type": "code",
   "execution_count": 65,
   "metadata": {},
   "outputs": [
    {
     "data": {
      "application/vnd.plotly.v1+json": {
       "config": {
        "plotlyServerURL": "https://plotly.com"
       },
       "data": [
        {
         "alignmentgroup": "True",
         "hovertemplate": "state_code=%{x}<br>loan_amount=%{y}<extra></extra>",
         "legendgroup": "AL",
         "marker": {
          "color": "#636efa",
          "pattern": {
           "shape": ""
          }
         },
         "name": "AL",
         "offsetgroup": "AL",
         "orientation": "v",
         "showlegend": true,
         "textposition": "auto",
         "type": "bar",
         "x": [
          "AL"
         ],
         "xaxis": "x",
         "y": [
          167105.26315789475
         ],
         "yaxis": "y"
        },
        {
         "alignmentgroup": "True",
         "hovertemplate": "state_code=%{x}<br>loan_amount=%{y}<extra></extra>",
         "legendgroup": "AR",
         "marker": {
          "color": "#EF553B",
          "pattern": {
           "shape": ""
          }
         },
         "name": "AR",
         "offsetgroup": "AR",
         "orientation": "v",
         "showlegend": true,
         "textposition": "auto",
         "type": "bar",
         "x": [
          "AR"
         ],
         "xaxis": "x",
         "y": [
          140000
         ],
         "yaxis": "y"
        },
        {
         "alignmentgroup": "True",
         "hovertemplate": "state_code=%{x}<br>loan_amount=%{y}<extra></extra>",
         "legendgroup": "AZ",
         "marker": {
          "color": "#00cc96",
          "pattern": {
           "shape": ""
          }
         },
         "name": "AZ",
         "offsetgroup": "AZ",
         "orientation": "v",
         "showlegend": true,
         "textposition": "auto",
         "type": "bar",
         "x": [
          "AZ"
         ],
         "xaxis": "x",
         "y": [
          162500
         ],
         "yaxis": "y"
        },
        {
         "alignmentgroup": "True",
         "hovertemplate": "state_code=%{x}<br>loan_amount=%{y}<extra></extra>",
         "legendgroup": "CA",
         "marker": {
          "color": "#ab63fa",
          "pattern": {
           "shape": ""
          }
         },
         "name": "CA",
         "offsetgroup": "CA",
         "orientation": "v",
         "showlegend": true,
         "textposition": "auto",
         "type": "bar",
         "x": [
          "CA"
         ],
         "xaxis": "x",
         "y": [
          407628.86597938143
         ],
         "yaxis": "y"
        },
        {
         "alignmentgroup": "True",
         "hovertemplate": "state_code=%{x}<br>loan_amount=%{y}<extra></extra>",
         "legendgroup": "CO",
         "marker": {
          "color": "#FFA15A",
          "pattern": {
           "shape": ""
          }
         },
         "name": "CO",
         "offsetgroup": "CO",
         "orientation": "v",
         "showlegend": true,
         "textposition": "auto",
         "type": "bar",
         "x": [
          "CO"
         ],
         "xaxis": "x",
         "y": [
          341153.8461538461
         ],
         "yaxis": "y"
        },
        {
         "alignmentgroup": "True",
         "hovertemplate": "state_code=%{x}<br>loan_amount=%{y}<extra></extra>",
         "legendgroup": "DC",
         "marker": {
          "color": "#19d3f3",
          "pattern": {
           "shape": ""
          }
         },
         "name": "DC",
         "offsetgroup": "DC",
         "orientation": "v",
         "showlegend": true,
         "textposition": "auto",
         "type": "bar",
         "x": [
          "DC"
         ],
         "xaxis": "x",
         "y": [
          655000
         ],
         "yaxis": "y"
        },
        {
         "alignmentgroup": "True",
         "hovertemplate": "state_code=%{x}<br>loan_amount=%{y}<extra></extra>",
         "legendgroup": "DE",
         "marker": {
          "color": "#FF6692",
          "pattern": {
           "shape": ""
          }
         },
         "name": "DE",
         "offsetgroup": "DE",
         "orientation": "v",
         "showlegend": true,
         "textposition": "auto",
         "type": "bar",
         "x": [
          "DE"
         ],
         "xaxis": "x",
         "y": [
          185000
         ],
         "yaxis": "y"
        },
        {
         "alignmentgroup": "True",
         "hovertemplate": "state_code=%{x}<br>loan_amount=%{y}<extra></extra>",
         "legendgroup": "FL",
         "marker": {
          "color": "#B6E880",
          "pattern": {
           "shape": ""
          }
         },
         "name": "FL",
         "offsetgroup": "FL",
         "orientation": "v",
         "showlegend": true,
         "textposition": "auto",
         "type": "bar",
         "x": [
          "FL"
         ],
         "xaxis": "x",
         "y": [
          238125
         ],
         "yaxis": "y"
        },
        {
         "alignmentgroup": "True",
         "hovertemplate": "state_code=%{x}<br>loan_amount=%{y}<extra></extra>",
         "legendgroup": "GA",
         "marker": {
          "color": "#FF97FF",
          "pattern": {
           "shape": ""
          }
         },
         "name": "GA",
         "offsetgroup": "GA",
         "orientation": "v",
         "showlegend": true,
         "textposition": "auto",
         "type": "bar",
         "x": [
          "GA"
         ],
         "xaxis": "x",
         "y": [
          275384.6153846154
         ],
         "yaxis": "y"
        },
        {
         "alignmentgroup": "True",
         "hovertemplate": "state_code=%{x}<br>loan_amount=%{y}<extra></extra>",
         "legendgroup": "IA",
         "marker": {
          "color": "#FECB52",
          "pattern": {
           "shape": ""
          }
         },
         "name": "IA",
         "offsetgroup": "IA",
         "orientation": "v",
         "showlegend": true,
         "textposition": "auto",
         "type": "bar",
         "x": [
          "IA"
         ],
         "xaxis": "x",
         "y": [
          139000
         ],
         "yaxis": "y"
        },
        {
         "alignmentgroup": "True",
         "hovertemplate": "state_code=%{x}<br>loan_amount=%{y}<extra></extra>",
         "legendgroup": "ID",
         "marker": {
          "color": "#636efa",
          "pattern": {
           "shape": ""
          }
         },
         "name": "ID",
         "offsetgroup": "ID",
         "orientation": "v",
         "showlegend": true,
         "textposition": "auto",
         "type": "bar",
         "x": [
          "ID"
         ],
         "xaxis": "x",
         "y": [
          65000
         ],
         "yaxis": "y"
        },
        {
         "alignmentgroup": "True",
         "hovertemplate": "state_code=%{x}<br>loan_amount=%{y}<extra></extra>",
         "legendgroup": "IL",
         "marker": {
          "color": "#EF553B",
          "pattern": {
           "shape": ""
          }
         },
         "name": "IL",
         "offsetgroup": "IL",
         "orientation": "v",
         "showlegend": true,
         "textposition": "auto",
         "type": "bar",
         "x": [
          "IL"
         ],
         "xaxis": "x",
         "y": [
          233750
         ],
         "yaxis": "y"
        },
        {
         "alignmentgroup": "True",
         "hovertemplate": "state_code=%{x}<br>loan_amount=%{y}<extra></extra>",
         "legendgroup": "IN",
         "marker": {
          "color": "#00cc96",
          "pattern": {
           "shape": ""
          }
         },
         "name": "IN",
         "offsetgroup": "IN",
         "orientation": "v",
         "showlegend": true,
         "textposition": "auto",
         "type": "bar",
         "x": [
          "IN"
         ],
         "xaxis": "x",
         "y": [
          188333.33333333334
         ],
         "yaxis": "y"
        },
        {
         "alignmentgroup": "True",
         "hovertemplate": "state_code=%{x}<br>loan_amount=%{y}<extra></extra>",
         "legendgroup": "KS",
         "marker": {
          "color": "#ab63fa",
          "pattern": {
           "shape": ""
          }
         },
         "name": "KS",
         "offsetgroup": "KS",
         "orientation": "v",
         "showlegend": true,
         "textposition": "auto",
         "type": "bar",
         "x": [
          "KS"
         ],
         "xaxis": "x",
         "y": [
          102500
         ],
         "yaxis": "y"
        },
        {
         "alignmentgroup": "True",
         "hovertemplate": "state_code=%{x}<br>loan_amount=%{y}<extra></extra>",
         "legendgroup": "KY",
         "marker": {
          "color": "#FFA15A",
          "pattern": {
           "shape": ""
          }
         },
         "name": "KY",
         "offsetgroup": "KY",
         "orientation": "v",
         "showlegend": true,
         "textposition": "auto",
         "type": "bar",
         "x": [
          "KY"
         ],
         "xaxis": "x",
         "y": [
          271000
         ],
         "yaxis": "y"
        },
        {
         "alignmentgroup": "True",
         "hovertemplate": "state_code=%{x}<br>loan_amount=%{y}<extra></extra>",
         "legendgroup": "LA",
         "marker": {
          "color": "#19d3f3",
          "pattern": {
           "shape": ""
          }
         },
         "name": "LA",
         "offsetgroup": "LA",
         "orientation": "v",
         "showlegend": true,
         "textposition": "auto",
         "type": "bar",
         "x": [
          "LA"
         ],
         "xaxis": "x",
         "y": [
          210308.64197530865
         ],
         "yaxis": "y"
        },
        {
         "alignmentgroup": "True",
         "hovertemplate": "state_code=%{x}<br>loan_amount=%{y}<extra></extra>",
         "legendgroup": "MA",
         "marker": {
          "color": "#FF6692",
          "pattern": {
           "shape": ""
          }
         },
         "name": "MA",
         "offsetgroup": "MA",
         "orientation": "v",
         "showlegend": true,
         "textposition": "auto",
         "type": "bar",
         "x": [
          "MA"
         ],
         "xaxis": "x",
         "y": [
          475000
         ],
         "yaxis": "y"
        },
        {
         "alignmentgroup": "True",
         "hovertemplate": "state_code=%{x}<br>loan_amount=%{y}<extra></extra>",
         "legendgroup": "MD",
         "marker": {
          "color": "#B6E880",
          "pattern": {
           "shape": ""
          }
         },
         "name": "MD",
         "offsetgroup": "MD",
         "orientation": "v",
         "showlegend": true,
         "textposition": "auto",
         "type": "bar",
         "x": [
          "MD"
         ],
         "xaxis": "x",
         "y": [
          262333.3333333333
         ],
         "yaxis": "y"
        },
        {
         "alignmentgroup": "True",
         "hovertemplate": "state_code=%{x}<br>loan_amount=%{y}<extra></extra>",
         "legendgroup": "MI",
         "marker": {
          "color": "#FF97FF",
          "pattern": {
           "shape": ""
          }
         },
         "name": "MI",
         "offsetgroup": "MI",
         "orientation": "v",
         "showlegend": true,
         "textposition": "auto",
         "type": "bar",
         "x": [
          "MI"
         ],
         "xaxis": "x",
         "y": [
          149000
         ],
         "yaxis": "y"
        },
        {
         "alignmentgroup": "True",
         "hovertemplate": "state_code=%{x}<br>loan_amount=%{y}<extra></extra>",
         "legendgroup": "MN",
         "marker": {
          "color": "#FECB52",
          "pattern": {
           "shape": ""
          }
         },
         "name": "MN",
         "offsetgroup": "MN",
         "orientation": "v",
         "showlegend": true,
         "textposition": "auto",
         "type": "bar",
         "x": [
          "MN"
         ],
         "xaxis": "x",
         "y": [
          183000
         ],
         "yaxis": "y"
        },
        {
         "alignmentgroup": "True",
         "hovertemplate": "state_code=%{x}<br>loan_amount=%{y}<extra></extra>",
         "legendgroup": "MO",
         "marker": {
          "color": "#636efa",
          "pattern": {
           "shape": ""
          }
         },
         "name": "MO",
         "offsetgroup": "MO",
         "orientation": "v",
         "showlegend": true,
         "textposition": "auto",
         "type": "bar",
         "x": [
          "MO"
         ],
         "xaxis": "x",
         "y": [
          201000
         ],
         "yaxis": "y"
        },
        {
         "alignmentgroup": "True",
         "hovertemplate": "state_code=%{x}<br>loan_amount=%{y}<extra></extra>",
         "legendgroup": "MS",
         "marker": {
          "color": "#EF553B",
          "pattern": {
           "shape": ""
          }
         },
         "name": "MS",
         "offsetgroup": "MS",
         "orientation": "v",
         "showlegend": true,
         "textposition": "auto",
         "type": "bar",
         "x": [
          "MS"
         ],
         "xaxis": "x",
         "y": [
          135000
         ],
         "yaxis": "y"
        },
        {
         "alignmentgroup": "True",
         "hovertemplate": "state_code=%{x}<br>loan_amount=%{y}<extra></extra>",
         "legendgroup": "MT",
         "marker": {
          "color": "#00cc96",
          "pattern": {
           "shape": ""
          }
         },
         "name": "MT",
         "offsetgroup": "MT",
         "orientation": "v",
         "showlegend": true,
         "textposition": "auto",
         "type": "bar",
         "x": [
          "MT"
         ],
         "xaxis": "x",
         "y": [
          385000
         ],
         "yaxis": "y"
        },
        {
         "alignmentgroup": "True",
         "hovertemplate": "state_code=%{x}<br>loan_amount=%{y}<extra></extra>",
         "legendgroup": "NC",
         "marker": {
          "color": "#ab63fa",
          "pattern": {
           "shape": ""
          }
         },
         "name": "NC",
         "offsetgroup": "NC",
         "orientation": "v",
         "showlegend": true,
         "textposition": "auto",
         "type": "bar",
         "x": [
          "NC"
         ],
         "xaxis": "x",
         "y": [
          207857.14285714287
         ],
         "yaxis": "y"
        },
        {
         "alignmentgroup": "True",
         "hovertemplate": "state_code=%{x}<br>loan_amount=%{y}<extra></extra>",
         "legendgroup": "NE",
         "marker": {
          "color": "#FFA15A",
          "pattern": {
           "shape": ""
          }
         },
         "name": "NE",
         "offsetgroup": "NE",
         "orientation": "v",
         "showlegend": true,
         "textposition": "auto",
         "type": "bar",
         "x": [
          "NE"
         ],
         "xaxis": "x",
         "y": [
          145000
         ],
         "yaxis": "y"
        },
        {
         "alignmentgroup": "True",
         "hovertemplate": "state_code=%{x}<br>loan_amount=%{y}<extra></extra>",
         "legendgroup": "NJ",
         "marker": {
          "color": "#19d3f3",
          "pattern": {
           "shape": ""
          }
         },
         "name": "NJ",
         "offsetgroup": "NJ",
         "orientation": "v",
         "showlegend": true,
         "textposition": "auto",
         "type": "bar",
         "x": [
          "NJ"
         ],
         "xaxis": "x",
         "y": [
          319000
         ],
         "yaxis": "y"
        },
        {
         "alignmentgroup": "True",
         "hovertemplate": "state_code=%{x}<br>loan_amount=%{y}<extra></extra>",
         "legendgroup": "NM",
         "marker": {
          "color": "#FF6692",
          "pattern": {
           "shape": ""
          }
         },
         "name": "NM",
         "offsetgroup": "NM",
         "orientation": "v",
         "showlegend": true,
         "textposition": "auto",
         "type": "bar",
         "x": [
          "NM"
         ],
         "xaxis": "x",
         "y": [
          155000
         ],
         "yaxis": "y"
        },
        {
         "alignmentgroup": "True",
         "hovertemplate": "state_code=%{x}<br>loan_amount=%{y}<extra></extra>",
         "legendgroup": "NV",
         "marker": {
          "color": "#B6E880",
          "pattern": {
           "shape": ""
          }
         },
         "name": "NV",
         "offsetgroup": "NV",
         "orientation": "v",
         "showlegend": true,
         "textposition": "auto",
         "type": "bar",
         "x": [
          "NV"
         ],
         "xaxis": "x",
         "y": [
          235000
         ],
         "yaxis": "y"
        },
        {
         "alignmentgroup": "True",
         "hovertemplate": "state_code=%{x}<br>loan_amount=%{y}<extra></extra>",
         "legendgroup": "NY",
         "marker": {
          "color": "#FF97FF",
          "pattern": {
           "shape": ""
          }
         },
         "name": "NY",
         "offsetgroup": "NY",
         "orientation": "v",
         "showlegend": true,
         "textposition": "auto",
         "type": "bar",
         "x": [
          "NY"
         ],
         "xaxis": "x",
         "y": [
          225000
         ],
         "yaxis": "y"
        },
        {
         "alignmentgroup": "True",
         "hovertemplate": "state_code=%{x}<br>loan_amount=%{y}<extra></extra>",
         "legendgroup": "OH",
         "marker": {
          "color": "#FECB52",
          "pattern": {
           "shape": ""
          }
         },
         "name": "OH",
         "offsetgroup": "OH",
         "orientation": "v",
         "showlegend": true,
         "textposition": "auto",
         "type": "bar",
         "x": [
          "OH"
         ],
         "xaxis": "x",
         "y": [
          196111.11111111112
         ],
         "yaxis": "y"
        },
        {
         "alignmentgroup": "True",
         "hovertemplate": "state_code=%{x}<br>loan_amount=%{y}<extra></extra>",
         "legendgroup": "OK",
         "marker": {
          "color": "#636efa",
          "pattern": {
           "shape": ""
          }
         },
         "name": "OK",
         "offsetgroup": "OK",
         "orientation": "v",
         "showlegend": true,
         "textposition": "auto",
         "type": "bar",
         "x": [
          "OK"
         ],
         "xaxis": "x",
         "y": [
          172500
         ],
         "yaxis": "y"
        },
        {
         "alignmentgroup": "True",
         "hovertemplate": "state_code=%{x}<br>loan_amount=%{y}<extra></extra>",
         "legendgroup": "OR",
         "marker": {
          "color": "#EF553B",
          "pattern": {
           "shape": ""
          }
         },
         "name": "OR",
         "offsetgroup": "OR",
         "orientation": "v",
         "showlegend": true,
         "textposition": "auto",
         "type": "bar",
         "x": [
          "OR"
         ],
         "xaxis": "x",
         "y": [
          131250
         ],
         "yaxis": "y"
        },
        {
         "alignmentgroup": "True",
         "hovertemplate": "state_code=%{x}<br>loan_amount=%{y}<extra></extra>",
         "legendgroup": "PA",
         "marker": {
          "color": "#00cc96",
          "pattern": {
           "shape": ""
          }
         },
         "name": "PA",
         "offsetgroup": "PA",
         "orientation": "v",
         "showlegend": true,
         "textposition": "auto",
         "type": "bar",
         "x": [
          "PA"
         ],
         "xaxis": "x",
         "y": [
          167641.50943396226
         ],
         "yaxis": "y"
        },
        {
         "alignmentgroup": "True",
         "hovertemplate": "state_code=%{x}<br>loan_amount=%{y}<extra></extra>",
         "legendgroup": "SC",
         "marker": {
          "color": "#ab63fa",
          "pattern": {
           "shape": ""
          }
         },
         "name": "SC",
         "offsetgroup": "SC",
         "orientation": "v",
         "showlegend": true,
         "textposition": "auto",
         "type": "bar",
         "x": [
          "SC"
         ],
         "xaxis": "x",
         "y": [
          233000
         ],
         "yaxis": "y"
        },
        {
         "alignmentgroup": "True",
         "hovertemplate": "state_code=%{x}<br>loan_amount=%{y}<extra></extra>",
         "legendgroup": "SD",
         "marker": {
          "color": "#FFA15A",
          "pattern": {
           "shape": ""
          }
         },
         "name": "SD",
         "offsetgroup": "SD",
         "orientation": "v",
         "showlegend": true,
         "textposition": "auto",
         "type": "bar",
         "x": [
          "SD"
         ],
         "xaxis": "x",
         "y": [
          215000
         ],
         "yaxis": "y"
        },
        {
         "alignmentgroup": "True",
         "hovertemplate": "state_code=%{x}<br>loan_amount=%{y}<extra></extra>",
         "legendgroup": "TN",
         "marker": {
          "color": "#19d3f3",
          "pattern": {
           "shape": ""
          }
         },
         "name": "TN",
         "offsetgroup": "TN",
         "orientation": "v",
         "showlegend": true,
         "textposition": "auto",
         "type": "bar",
         "x": [
          "TN"
         ],
         "xaxis": "x",
         "y": [
          220000
         ],
         "yaxis": "y"
        },
        {
         "alignmentgroup": "True",
         "hovertemplate": "state_code=%{x}<br>loan_amount=%{y}<extra></extra>",
         "legendgroup": "TX",
         "marker": {
          "color": "#FF6692",
          "pattern": {
           "shape": ""
          }
         },
         "name": "TX",
         "offsetgroup": "TX",
         "orientation": "v",
         "showlegend": true,
         "textposition": "auto",
         "type": "bar",
         "x": [
          "TX"
         ],
         "xaxis": "x",
         "y": [
          232692.3076923077
         ],
         "yaxis": "y"
        },
        {
         "alignmentgroup": "True",
         "hovertemplate": "state_code=%{x}<br>loan_amount=%{y}<extra></extra>",
         "legendgroup": "UT",
         "marker": {
          "color": "#B6E880",
          "pattern": {
           "shape": ""
          }
         },
         "name": "UT",
         "offsetgroup": "UT",
         "orientation": "v",
         "showlegend": true,
         "textposition": "auto",
         "type": "bar",
         "x": [
          "UT"
         ],
         "xaxis": "x",
         "y": [
          272142.85714285716
         ],
         "yaxis": "y"
        },
        {
         "alignmentgroup": "True",
         "hovertemplate": "state_code=%{x}<br>loan_amount=%{y}<extra></extra>",
         "legendgroup": "VA",
         "marker": {
          "color": "#FF97FF",
          "pattern": {
           "shape": ""
          }
         },
         "name": "VA",
         "offsetgroup": "VA",
         "orientation": "v",
         "showlegend": true,
         "textposition": "auto",
         "type": "bar",
         "x": [
          "VA"
         ],
         "xaxis": "x",
         "y": [
          326764.70588235295
         ],
         "yaxis": "y"
        },
        {
         "alignmentgroup": "True",
         "hovertemplate": "state_code=%{x}<br>loan_amount=%{y}<extra></extra>",
         "legendgroup": "WA",
         "marker": {
          "color": "#FECB52",
          "pattern": {
           "shape": ""
          }
         },
         "name": "WA",
         "offsetgroup": "WA",
         "orientation": "v",
         "showlegend": true,
         "textposition": "auto",
         "type": "bar",
         "x": [
          "WA"
         ],
         "xaxis": "x",
         "y": [
          139776.1194029851
         ],
         "yaxis": "y"
        },
        {
         "alignmentgroup": "True",
         "hovertemplate": "state_code=%{x}<br>loan_amount=%{y}<extra></extra>",
         "legendgroup": "WI",
         "marker": {
          "color": "#636efa",
          "pattern": {
           "shape": ""
          }
         },
         "name": "WI",
         "offsetgroup": "WI",
         "orientation": "v",
         "showlegend": true,
         "textposition": "auto",
         "type": "bar",
         "x": [
          "WI"
         ],
         "xaxis": "x",
         "y": [
          253000
         ],
         "yaxis": "y"
        },
        {
         "alignmentgroup": "True",
         "hovertemplate": "state_code=%{x}<br>loan_amount=%{y}<extra></extra>",
         "legendgroup": "WV",
         "marker": {
          "color": "#EF553B",
          "pattern": {
           "shape": ""
          }
         },
         "name": "WV",
         "offsetgroup": "WV",
         "orientation": "v",
         "showlegend": true,
         "textposition": "auto",
         "type": "bar",
         "x": [
          "WV"
         ],
         "xaxis": "x",
         "y": [
          135000
         ],
         "yaxis": "y"
        },
        {
         "alignmentgroup": "True",
         "hovertemplate": "state_code=%{x}<br>loan_amount=%{y}<extra></extra>",
         "legendgroup": "WY",
         "marker": {
          "color": "#00cc96",
          "pattern": {
           "shape": ""
          }
         },
         "name": "WY",
         "offsetgroup": "WY",
         "orientation": "v",
         "showlegend": true,
         "textposition": "auto",
         "type": "bar",
         "x": [
          "WY"
         ],
         "xaxis": "x",
         "y": [
          275000
         ],
         "yaxis": "y"
        }
       ],
       "layout": {
        "barmode": "relative",
        "height": 200,
        "legend": {
         "title": {
          "text": "state_code"
         },
         "tracegroupgap": 0
        },
        "margin": {
         "t": 60
        },
        "template": {
         "data": {
          "bar": [
           {
            "error_x": {
             "color": "#2a3f5f"
            },
            "error_y": {
             "color": "#2a3f5f"
            },
            "marker": {
             "line": {
              "color": "#E5ECF6",
              "width": 0.5
             },
             "pattern": {
              "fillmode": "overlay",
              "size": 10,
              "solidity": 0.2
             }
            },
            "type": "bar"
           }
          ],
          "barpolar": [
           {
            "marker": {
             "line": {
              "color": "#E5ECF6",
              "width": 0.5
             },
             "pattern": {
              "fillmode": "overlay",
              "size": 10,
              "solidity": 0.2
             }
            },
            "type": "barpolar"
           }
          ],
          "carpet": [
           {
            "aaxis": {
             "endlinecolor": "#2a3f5f",
             "gridcolor": "white",
             "linecolor": "white",
             "minorgridcolor": "white",
             "startlinecolor": "#2a3f5f"
            },
            "baxis": {
             "endlinecolor": "#2a3f5f",
             "gridcolor": "white",
             "linecolor": "white",
             "minorgridcolor": "white",
             "startlinecolor": "#2a3f5f"
            },
            "type": "carpet"
           }
          ],
          "choropleth": [
           {
            "colorbar": {
             "outlinewidth": 0,
             "ticks": ""
            },
            "type": "choropleth"
           }
          ],
          "contour": [
           {
            "colorbar": {
             "outlinewidth": 0,
             "ticks": ""
            },
            "colorscale": [
             [
              0,
              "#0d0887"
             ],
             [
              0.1111111111111111,
              "#46039f"
             ],
             [
              0.2222222222222222,
              "#7201a8"
             ],
             [
              0.3333333333333333,
              "#9c179e"
             ],
             [
              0.4444444444444444,
              "#bd3786"
             ],
             [
              0.5555555555555556,
              "#d8576b"
             ],
             [
              0.6666666666666666,
              "#ed7953"
             ],
             [
              0.7777777777777778,
              "#fb9f3a"
             ],
             [
              0.8888888888888888,
              "#fdca26"
             ],
             [
              1,
              "#f0f921"
             ]
            ],
            "type": "contour"
           }
          ],
          "contourcarpet": [
           {
            "colorbar": {
             "outlinewidth": 0,
             "ticks": ""
            },
            "type": "contourcarpet"
           }
          ],
          "heatmap": [
           {
            "colorbar": {
             "outlinewidth": 0,
             "ticks": ""
            },
            "colorscale": [
             [
              0,
              "#0d0887"
             ],
             [
              0.1111111111111111,
              "#46039f"
             ],
             [
              0.2222222222222222,
              "#7201a8"
             ],
             [
              0.3333333333333333,
              "#9c179e"
             ],
             [
              0.4444444444444444,
              "#bd3786"
             ],
             [
              0.5555555555555556,
              "#d8576b"
             ],
             [
              0.6666666666666666,
              "#ed7953"
             ],
             [
              0.7777777777777778,
              "#fb9f3a"
             ],
             [
              0.8888888888888888,
              "#fdca26"
             ],
             [
              1,
              "#f0f921"
             ]
            ],
            "type": "heatmap"
           }
          ],
          "heatmapgl": [
           {
            "colorbar": {
             "outlinewidth": 0,
             "ticks": ""
            },
            "colorscale": [
             [
              0,
              "#0d0887"
             ],
             [
              0.1111111111111111,
              "#46039f"
             ],
             [
              0.2222222222222222,
              "#7201a8"
             ],
             [
              0.3333333333333333,
              "#9c179e"
             ],
             [
              0.4444444444444444,
              "#bd3786"
             ],
             [
              0.5555555555555556,
              "#d8576b"
             ],
             [
              0.6666666666666666,
              "#ed7953"
             ],
             [
              0.7777777777777778,
              "#fb9f3a"
             ],
             [
              0.8888888888888888,
              "#fdca26"
             ],
             [
              1,
              "#f0f921"
             ]
            ],
            "type": "heatmapgl"
           }
          ],
          "histogram": [
           {
            "marker": {
             "pattern": {
              "fillmode": "overlay",
              "size": 10,
              "solidity": 0.2
             }
            },
            "type": "histogram"
           }
          ],
          "histogram2d": [
           {
            "colorbar": {
             "outlinewidth": 0,
             "ticks": ""
            },
            "colorscale": [
             [
              0,
              "#0d0887"
             ],
             [
              0.1111111111111111,
              "#46039f"
             ],
             [
              0.2222222222222222,
              "#7201a8"
             ],
             [
              0.3333333333333333,
              "#9c179e"
             ],
             [
              0.4444444444444444,
              "#bd3786"
             ],
             [
              0.5555555555555556,
              "#d8576b"
             ],
             [
              0.6666666666666666,
              "#ed7953"
             ],
             [
              0.7777777777777778,
              "#fb9f3a"
             ],
             [
              0.8888888888888888,
              "#fdca26"
             ],
             [
              1,
              "#f0f921"
             ]
            ],
            "type": "histogram2d"
           }
          ],
          "histogram2dcontour": [
           {
            "colorbar": {
             "outlinewidth": 0,
             "ticks": ""
            },
            "colorscale": [
             [
              0,
              "#0d0887"
             ],
             [
              0.1111111111111111,
              "#46039f"
             ],
             [
              0.2222222222222222,
              "#7201a8"
             ],
             [
              0.3333333333333333,
              "#9c179e"
             ],
             [
              0.4444444444444444,
              "#bd3786"
             ],
             [
              0.5555555555555556,
              "#d8576b"
             ],
             [
              0.6666666666666666,
              "#ed7953"
             ],
             [
              0.7777777777777778,
              "#fb9f3a"
             ],
             [
              0.8888888888888888,
              "#fdca26"
             ],
             [
              1,
              "#f0f921"
             ]
            ],
            "type": "histogram2dcontour"
           }
          ],
          "mesh3d": [
           {
            "colorbar": {
             "outlinewidth": 0,
             "ticks": ""
            },
            "type": "mesh3d"
           }
          ],
          "parcoords": [
           {
            "line": {
             "colorbar": {
              "outlinewidth": 0,
              "ticks": ""
             }
            },
            "type": "parcoords"
           }
          ],
          "pie": [
           {
            "automargin": true,
            "type": "pie"
           }
          ],
          "scatter": [
           {
            "marker": {
             "colorbar": {
              "outlinewidth": 0,
              "ticks": ""
             }
            },
            "type": "scatter"
           }
          ],
          "scatter3d": [
           {
            "line": {
             "colorbar": {
              "outlinewidth": 0,
              "ticks": ""
             }
            },
            "marker": {
             "colorbar": {
              "outlinewidth": 0,
              "ticks": ""
             }
            },
            "type": "scatter3d"
           }
          ],
          "scattercarpet": [
           {
            "marker": {
             "colorbar": {
              "outlinewidth": 0,
              "ticks": ""
             }
            },
            "type": "scattercarpet"
           }
          ],
          "scattergeo": [
           {
            "marker": {
             "colorbar": {
              "outlinewidth": 0,
              "ticks": ""
             }
            },
            "type": "scattergeo"
           }
          ],
          "scattergl": [
           {
            "marker": {
             "colorbar": {
              "outlinewidth": 0,
              "ticks": ""
             }
            },
            "type": "scattergl"
           }
          ],
          "scattermapbox": [
           {
            "marker": {
             "colorbar": {
              "outlinewidth": 0,
              "ticks": ""
             }
            },
            "type": "scattermapbox"
           }
          ],
          "scatterpolar": [
           {
            "marker": {
             "colorbar": {
              "outlinewidth": 0,
              "ticks": ""
             }
            },
            "type": "scatterpolar"
           }
          ],
          "scatterpolargl": [
           {
            "marker": {
             "colorbar": {
              "outlinewidth": 0,
              "ticks": ""
             }
            },
            "type": "scatterpolargl"
           }
          ],
          "scatterternary": [
           {
            "marker": {
             "colorbar": {
              "outlinewidth": 0,
              "ticks": ""
             }
            },
            "type": "scatterternary"
           }
          ],
          "surface": [
           {
            "colorbar": {
             "outlinewidth": 0,
             "ticks": ""
            },
            "colorscale": [
             [
              0,
              "#0d0887"
             ],
             [
              0.1111111111111111,
              "#46039f"
             ],
             [
              0.2222222222222222,
              "#7201a8"
             ],
             [
              0.3333333333333333,
              "#9c179e"
             ],
             [
              0.4444444444444444,
              "#bd3786"
             ],
             [
              0.5555555555555556,
              "#d8576b"
             ],
             [
              0.6666666666666666,
              "#ed7953"
             ],
             [
              0.7777777777777778,
              "#fb9f3a"
             ],
             [
              0.8888888888888888,
              "#fdca26"
             ],
             [
              1,
              "#f0f921"
             ]
            ],
            "type": "surface"
           }
          ],
          "table": [
           {
            "cells": {
             "fill": {
              "color": "#EBF0F8"
             },
             "line": {
              "color": "white"
             }
            },
            "header": {
             "fill": {
              "color": "#C8D4E3"
             },
             "line": {
              "color": "white"
             }
            },
            "type": "table"
           }
          ]
         },
         "layout": {
          "annotationdefaults": {
           "arrowcolor": "#2a3f5f",
           "arrowhead": 0,
           "arrowwidth": 1
          },
          "autotypenumbers": "strict",
          "coloraxis": {
           "colorbar": {
            "outlinewidth": 0,
            "ticks": ""
           }
          },
          "colorscale": {
           "diverging": [
            [
             0,
             "#8e0152"
            ],
            [
             0.1,
             "#c51b7d"
            ],
            [
             0.2,
             "#de77ae"
            ],
            [
             0.3,
             "#f1b6da"
            ],
            [
             0.4,
             "#fde0ef"
            ],
            [
             0.5,
             "#f7f7f7"
            ],
            [
             0.6,
             "#e6f5d0"
            ],
            [
             0.7,
             "#b8e186"
            ],
            [
             0.8,
             "#7fbc41"
            ],
            [
             0.9,
             "#4d9221"
            ],
            [
             1,
             "#276419"
            ]
           ],
           "sequential": [
            [
             0,
             "#0d0887"
            ],
            [
             0.1111111111111111,
             "#46039f"
            ],
            [
             0.2222222222222222,
             "#7201a8"
            ],
            [
             0.3333333333333333,
             "#9c179e"
            ],
            [
             0.4444444444444444,
             "#bd3786"
            ],
            [
             0.5555555555555556,
             "#d8576b"
            ],
            [
             0.6666666666666666,
             "#ed7953"
            ],
            [
             0.7777777777777778,
             "#fb9f3a"
            ],
            [
             0.8888888888888888,
             "#fdca26"
            ],
            [
             1,
             "#f0f921"
            ]
           ],
           "sequentialminus": [
            [
             0,
             "#0d0887"
            ],
            [
             0.1111111111111111,
             "#46039f"
            ],
            [
             0.2222222222222222,
             "#7201a8"
            ],
            [
             0.3333333333333333,
             "#9c179e"
            ],
            [
             0.4444444444444444,
             "#bd3786"
            ],
            [
             0.5555555555555556,
             "#d8576b"
            ],
            [
             0.6666666666666666,
             "#ed7953"
            ],
            [
             0.7777777777777778,
             "#fb9f3a"
            ],
            [
             0.8888888888888888,
             "#fdca26"
            ],
            [
             1,
             "#f0f921"
            ]
           ]
          },
          "colorway": [
           "#636efa",
           "#EF553B",
           "#00cc96",
           "#ab63fa",
           "#FFA15A",
           "#19d3f3",
           "#FF6692",
           "#B6E880",
           "#FF97FF",
           "#FECB52"
          ],
          "font": {
           "color": "#2a3f5f"
          },
          "geo": {
           "bgcolor": "white",
           "lakecolor": "white",
           "landcolor": "#E5ECF6",
           "showlakes": true,
           "showland": true,
           "subunitcolor": "white"
          },
          "hoverlabel": {
           "align": "left"
          },
          "hovermode": "closest",
          "mapbox": {
           "style": "light"
          },
          "paper_bgcolor": "white",
          "plot_bgcolor": "#E5ECF6",
          "polar": {
           "angularaxis": {
            "gridcolor": "white",
            "linecolor": "white",
            "ticks": ""
           },
           "bgcolor": "#E5ECF6",
           "radialaxis": {
            "gridcolor": "white",
            "linecolor": "white",
            "ticks": ""
           }
          },
          "scene": {
           "xaxis": {
            "backgroundcolor": "#E5ECF6",
            "gridcolor": "white",
            "gridwidth": 2,
            "linecolor": "white",
            "showbackground": true,
            "ticks": "",
            "zerolinecolor": "white"
           },
           "yaxis": {
            "backgroundcolor": "#E5ECF6",
            "gridcolor": "white",
            "gridwidth": 2,
            "linecolor": "white",
            "showbackground": true,
            "ticks": "",
            "zerolinecolor": "white"
           },
           "zaxis": {
            "backgroundcolor": "#E5ECF6",
            "gridcolor": "white",
            "gridwidth": 2,
            "linecolor": "white",
            "showbackground": true,
            "ticks": "",
            "zerolinecolor": "white"
           }
          },
          "shapedefaults": {
           "line": {
            "color": "#2a3f5f"
           }
          },
          "ternary": {
           "aaxis": {
            "gridcolor": "white",
            "linecolor": "white",
            "ticks": ""
           },
           "baxis": {
            "gridcolor": "white",
            "linecolor": "white",
            "ticks": ""
           },
           "bgcolor": "#E5ECF6",
           "caxis": {
            "gridcolor": "white",
            "linecolor": "white",
            "ticks": ""
           }
          },
          "title": {
           "x": 0.05
          },
          "xaxis": {
           "automargin": true,
           "gridcolor": "white",
           "linecolor": "white",
           "ticks": "",
           "title": {
            "standoff": 15
           },
           "zerolinecolor": "white",
           "zerolinewidth": 2
          },
          "yaxis": {
           "automargin": true,
           "gridcolor": "white",
           "linecolor": "white",
           "ticks": "",
           "title": {
            "standoff": 15
           },
           "zerolinecolor": "white",
           "zerolinewidth": 2
          }
         }
        },
        "xaxis": {
         "anchor": "y",
         "categoryarray": [
          "AL",
          "AR",
          "AZ",
          "CA",
          "CO",
          "DC",
          "DE",
          "FL",
          "GA",
          "IA",
          "ID",
          "IL",
          "IN",
          "KS",
          "KY",
          "LA",
          "MA",
          "MD",
          "MI",
          "MN",
          "MO",
          "MS",
          "MT",
          "NC",
          "NE",
          "NJ",
          "NM",
          "NV",
          "NY",
          "OH",
          "OK",
          "OR",
          "PA",
          "SC",
          "SD",
          "TN",
          "TX",
          "UT",
          "VA",
          "WA",
          "WI",
          "WV",
          "WY"
         ],
         "categoryorder": "array",
         "domain": [
          0,
          1
         ],
         "title": {
          "text": "state_code"
         }
        },
        "yaxis": {
         "anchor": "x",
         "domain": [
          0,
          1
         ],
         "title": {
          "text": "loan_amount"
         }
        }
       }
      }
     },
     "metadata": {},
     "output_type": "display_data"
    }
   ],
   "source": [
    "basic_bars = px.bar(mean_df, x=\"state_code\", y=\"loan_amount\", color=\"state_code\", height=200)\n",
    "basic_bars.show()"
   ]
  },
  {
   "cell_type": "code",
   "execution_count": 71,
   "metadata": {},
   "outputs": [
    {
     "data": {
      "application/vnd.plotly.v1+json": {
       "config": {
        "plotlyServerURL": "https://plotly.com"
       },
       "data": [
        {
         "domain": {
          "x": [
           0,
           1
          ],
          "y": [
           0,
           1
          ]
         },
         "hovertemplate": "label=%{label}<br>value=%{value}<extra></extra>",
         "labels": [
          "CA",
          "CA",
          "CA",
          "CA",
          "CA",
          "CA",
          "CA",
          "CA",
          "CA",
          "CA",
          "CA",
          "CA",
          "CA",
          "CA",
          "CA",
          "CA",
          "CA",
          "CA",
          "CA",
          "CA",
          "CA",
          "CA",
          "CA",
          "CA",
          "CA",
          "CA",
          "CA",
          "CA",
          "CA",
          "CA",
          "CA",
          "CA",
          "CA",
          "CA",
          "CA",
          "CA",
          "CA",
          "CA",
          "CA",
          "CA",
          "CA",
          "CA",
          "CA",
          "CA",
          "CA",
          "CA",
          "CA",
          "CA",
          "CA",
          "CA",
          "CA",
          "CA",
          "CA",
          "CA",
          "CA",
          "CA",
          "CA",
          "CA",
          "CA",
          "CA",
          "CA",
          "CA",
          "CA",
          "CA",
          "CA",
          "CA",
          "CA",
          "CA",
          "CA",
          "CA",
          "CA",
          "CA",
          "CA",
          "CA",
          "CA",
          "CA",
          "CA",
          "CA",
          "CA",
          "CA",
          "CA",
          "CA",
          "CA",
          "CA",
          "CA",
          "CA",
          "CA",
          "CA",
          "CA",
          "CA",
          "CA",
          "CA",
          "CA",
          "CA",
          "CA",
          "CA",
          "CA",
          "CA",
          "CA",
          "CA",
          "CA",
          "CA",
          "CA",
          "CA",
          "CA",
          "CA",
          "CA",
          "CA",
          "CA",
          "CA",
          "CA",
          "CA",
          "CA",
          "CA",
          "CA",
          "CA",
          "CA",
          "CA",
          "CA",
          "CA",
          "CA",
          "CA",
          "CA",
          "CA",
          "CA",
          "CA",
          "CA",
          "CA",
          "CA",
          "CA",
          "CA",
          "CA",
          "CA",
          "CA",
          "CA",
          "CA",
          "CA",
          "CA",
          "CA",
          "CA",
          "CA",
          "CA",
          "CA",
          "CA",
          "CA",
          "CA",
          "CA",
          "CA",
          "CA",
          "CA",
          "CA",
          "CA",
          "CA",
          "CA",
          "CA",
          "CA",
          "CA",
          "CA",
          "CA",
          "CA",
          "CA",
          "CA",
          "CA",
          "CA",
          "CA",
          "CA",
          "CA",
          "CA",
          "CA",
          "CA",
          "CA",
          "CA",
          "CA",
          "CA",
          "CA",
          "CA",
          "CA",
          "CA",
          "CA",
          "CA",
          "CA",
          "CA",
          "CA",
          "CA",
          "CA",
          "CA",
          "CA",
          "CA",
          "CA",
          "CA",
          "CA",
          "CA",
          "CA",
          "CA",
          "CA",
          "CA",
          "CA",
          "CA",
          "CA",
          "CA",
          "CA",
          "CA",
          "CA",
          "CA",
          "CA",
          "CA",
          "CA",
          "CA",
          "CA",
          "CA",
          "CA",
          "CA",
          "CA",
          "CA",
          "CA",
          "CA",
          "CA",
          "CA",
          "CA",
          "CA",
          "CA",
          "CA",
          "CA",
          "CA",
          "CA",
          "CA",
          "CA",
          "CA",
          "CA",
          "CA",
          "CA",
          "CA",
          "CA",
          "CA",
          "CA",
          "CA",
          "CA",
          "CA",
          "CA",
          "CA",
          "CA",
          "CA",
          "CA",
          "CA",
          "CA",
          "CA",
          "CA",
          "CA",
          "CA",
          "CA",
          "CA",
          "CA",
          "CA",
          "CA",
          "CA",
          "CA",
          "CA",
          "CA",
          "CA",
          "CA",
          "CA",
          "CA",
          "CA",
          "CA",
          "CA",
          "CA",
          "CA",
          "CA",
          "CA",
          "CA",
          "CA",
          "CA",
          "CA",
          "CA",
          "CA",
          "CA",
          "CA",
          "CA",
          "CA",
          "CA",
          "CA",
          "CA",
          "CA",
          "CA",
          "CA",
          "CA",
          "CA",
          "CA",
          "CA",
          "CA",
          "CA",
          "CA",
          "CA",
          "CA",
          "CA",
          "CA",
          "CA",
          "CA",
          "CA",
          "CA",
          "CA",
          "MI",
          "CA",
          "CA",
          "CA",
          "CA",
          "CA",
          "CA",
          "MI",
          "MI",
          "MI",
          "MI",
          "MI",
          "MI",
          "MI",
          "MI",
          "CA",
          "CA",
          "CA",
          "CA",
          "CA",
          "MI",
          "MI",
          "MI",
          "MI",
          "MI",
          "MI",
          "MI",
          "MI",
          "MI",
          "MI",
          "MI",
          "MI",
          "MI",
          "MI",
          "CO",
          "LA",
          "GA",
          "LA",
          "LA",
          "GA",
          "LA",
          "AL",
          "TX",
          "LA",
          "LA",
          "CO",
          "VA",
          "LA",
          "LA",
          "LA",
          "LA",
          "LA",
          "AL",
          "LA",
          "TX",
          "LA",
          "AL",
          "LA",
          "LA",
          "AL",
          "LA",
          "LA",
          "LA",
          "GA",
          "TX",
          "TX",
          "FL",
          "LA",
          "LA",
          "LA",
          "NC",
          "LA",
          "LA",
          "LA",
          "AL",
          "AL",
          "AL",
          "LA",
          "LA",
          "TX",
          "LA",
          "GA",
          "LA",
          "LA",
          "LA",
          "LA",
          "LA",
          "LA",
          "LA",
          "GA",
          "LA",
          "GA",
          "LA",
          "LA",
          "LA",
          "LA",
          "LA",
          "LA",
          "SC",
          "LA",
          "LA",
          "AL",
          "LA",
          "LA",
          "LA",
          "LA",
          "LA",
          "LA",
          "AL",
          "LA",
          "LA",
          "LA",
          "GA",
          "LA",
          "LA",
          "LA",
          "OK",
          "LA",
          "AL",
          "LA",
          "VA",
          "LA",
          "LA",
          "SC",
          "LA",
          "LA",
          "LA",
          "AL",
          "LA",
          "LA",
          "LA",
          "LA",
          "LA",
          "AL",
          "LA",
          "AL",
          "LA",
          "LA",
          "LA",
          "LA",
          "LA",
          "GA",
          "LA",
          "AL",
          "NC",
          "LA",
          "VA",
          "TX",
          "LA",
          "AL",
          "LA",
          "VA",
          "LA",
          "LA",
          "WA",
          "CA",
          "CA",
          "WA",
          "WA",
          "OR",
          "WA",
          "OR",
          "WA",
          "ID",
          "WA",
          "CA",
          "OR",
          "OR",
          "CA",
          "WA",
          "CA",
          "WA",
          "OR",
          "WA",
          "WA",
          "CA",
          "WA",
          "WA",
          "OR",
          "WA",
          "WA",
          "WA",
          "WA",
          "CA",
          "OR",
          "CA",
          "WA",
          "CA",
          "WA",
          "WA",
          "OR",
          "WA",
          "WA",
          "CA",
          "WA",
          "WA",
          "WA",
          "CA",
          "CA",
          "CA",
          "OR",
          "CA",
          "WA",
          "WA",
          "WA",
          "WA",
          "WA",
          "WA",
          "OR",
          "WA",
          "CA",
          "OR",
          "OR",
          "OR",
          "WA",
          "WA",
          "WA",
          "CA",
          "WA",
          "OR",
          "WA",
          "WA",
          "OR",
          "CA",
          "CA",
          "WA",
          "CA",
          "CA",
          "CA",
          "CA",
          "CA",
          "CA",
          "CA",
          "WA",
          "CA",
          "OR",
          "OR",
          "WA",
          "OR",
          "CA",
          "OR",
          "WA",
          "OR",
          "OR",
          "ID",
          "CA",
          "WA",
          "WA",
          "WA",
          "WA",
          "OR",
          "CA",
          "OR",
          "OR",
          "CA",
          "WA",
          "ID",
          "WA",
          "ID",
          "WA",
          "OR",
          "WA",
          "WA",
          "OR",
          "WA",
          "CA",
          "CA",
          "CA",
          "CA",
          "WA",
          "WA",
          "OR",
          "OR",
          "WA",
          "PA",
          "PA",
          "PA",
          "PA",
          "PA",
          "PA",
          "PA",
          "PA",
          "PA",
          "PA",
          "PA",
          "PA",
          "PA",
          "PA",
          "PA",
          "PA",
          "PA",
          "PA",
          "PA",
          "PA",
          "PA",
          "PA",
          "PA",
          "PA",
          "PA",
          "PA",
          "PA",
          "PA",
          "PA",
          "PA",
          "PA",
          "PA",
          "PA",
          "PA",
          "PA",
          "PA",
          "PA",
          "PA",
          "PA",
          "PA",
          "PA",
          "PA",
          "PA",
          "PA",
          "PA",
          "PA",
          "PA",
          "PA",
          "PA",
          "PA",
          "PA",
          "PA",
          "PA",
          "PA",
          "PA",
          "PA",
          "PA",
          "PA",
          "PA",
          "PA",
          "PA",
          "PA",
          "NJ",
          "PA",
          "PA",
          "PA",
          "PA",
          "PA",
          "PA",
          "PA",
          "FL",
          "PA",
          "PA",
          "PA",
          "PA",
          "PA",
          "PA",
          "PA",
          "PA",
          "PA",
          "PA",
          "PA",
          "PA",
          "PA",
          "PA",
          "PA",
          "PA",
          "FL",
          "PA",
          "PA",
          "PA",
          "PA",
          "PA",
          "PA",
          "IA",
          "FL",
          "PA",
          "PA",
          "PA",
          "PA",
          "FL",
          "MN",
          "MN",
          "MN",
          "CA",
          "CA",
          "CA",
          "CA",
          "CA",
          "CA",
          "VA",
          "TX",
          "WA",
          "UT",
          "ID",
          "MO",
          "WI",
          "AL",
          "TX",
          "CA",
          "CA",
          "FL",
          "MS",
          "SC",
          "NC",
          "CO",
          "OH",
          "CA",
          "KY",
          "FL",
          "VA",
          "OR",
          "CA",
          "IL",
          "FL",
          "FL",
          "FL",
          "CA",
          "PA",
          "CA",
          "CA",
          "WI",
          "CO",
          "CA",
          "TX",
          "CO",
          "CA",
          "PA",
          "NM",
          "NV",
          "MN",
          "GA",
          "CA",
          "GA",
          "OR",
          "VA",
          "CA",
          "FL",
          "TX",
          "OR",
          "SC",
          "VA",
          "WI",
          "SC",
          "NJ",
          "VA",
          "CO",
          "NC",
          "IL",
          "FL",
          "OH",
          "OH",
          "OH",
          "KS",
          "PA",
          "VA",
          "NC",
          "FL",
          "NC",
          "OK",
          "IN",
          "AZ",
          "OR",
          "NJ",
          "NC",
          "CA",
          "SC",
          "TN",
          "WA",
          "IL",
          "TX",
          "MD",
          "KS",
          "MD",
          "MO",
          "UT",
          "NY",
          "IA",
          "MD",
          "NC",
          "IA",
          "IL",
          "OK",
          "NV",
          "LA",
          "NE",
          "TX",
          "OH",
          "TX",
          "NE",
          "OK",
          "NJ",
          "NC",
          "TX",
          "PA",
          "SC",
          "ID",
          "NC",
          "GA",
          "OK",
          "MO",
          "NC",
          "MD",
          "WY",
          "TX",
          "CA",
          "FL",
          "MD",
          "MO",
          "TX",
          "AR",
          "TX",
          "AL",
          "MS",
          "KY",
          "CA",
          "OK",
          "TX",
          "OR",
          "CO",
          "MD",
          "TX",
          "IN",
          "IA",
          "UT",
          "GA",
          "GA",
          "OR",
          "GA",
          "FL",
          "MO",
          "DE",
          "NC",
          "NC",
          "AR",
          "IN",
          "CA",
          "WA",
          "FL",
          "VA",
          "PA",
          "VA",
          "CA",
          "AZ",
          "FL",
          "AL",
          "FL",
          "CO",
          "TX",
          "MD",
          "CA",
          "TX",
          "TX",
          "PA",
          "OK",
          "OR",
          "FL",
          "NV",
          "CO",
          "NV",
          "CO",
          "WI",
          "CO",
          "CA",
          "MD",
          "TX",
          "NJ",
          "TX",
          "MO",
          "CA",
          "CA",
          "OR",
          "SC",
          "VA",
          "FL",
          "WA",
          "WA",
          "CA",
          "CA",
          "OR",
          "FL",
          "CA",
          "CA",
          "OH",
          "NC",
          "WA",
          "GA",
          "CA",
          "CA",
          "CA",
          "KY",
          "FL",
          "CO",
          "GA",
          "IL",
          "MI",
          "IL",
          "AL",
          "FL",
          "GA",
          "KY",
          "MD",
          "WI",
          "WA",
          "NV",
          "OR",
          "MN",
          "OK",
          "CA",
          "AZ",
          "SC",
          "AZ",
          "OR",
          "GA",
          "CA",
          "LA",
          "MD",
          "UT",
          "WA",
          "UT",
          "FL",
          "OH",
          "FL",
          "MT",
          "NY",
          "FL",
          "GA",
          "CA",
          "NE",
          "CA",
          "KS",
          "NJ",
          "CA",
          "GA",
          "GA",
          "MI",
          "CA",
          "WA",
          "OH",
          "IL",
          "OR",
          "TX",
          "WY",
          "IA",
          "PA",
          "KS",
          "MD",
          "GA",
          "GA",
          "FL",
          "GA",
          "SC",
          "NC",
          "VA",
          "NJ",
          "WV",
          "KY",
          "MD",
          "PA",
          "PA",
          "UT",
          "FL",
          "VA",
          "VA",
          "FL",
          "VA",
          "GA",
          "SD",
          "FL",
          "OH",
          "NJ",
          "DC",
          "NC",
          "MA",
          "MO",
          "GA",
          "MD",
          "NJ",
          "TN",
          "TX",
          "CA",
          "WA",
          "WA",
          "NJ",
          "IL",
          "MD",
          "PA",
          "FL",
          "NC",
          "CA",
          "NC",
          "MO",
          "WA",
          "NC",
          "CA",
          "WA",
          "FL",
          "NC",
          "MD",
          "CO",
          "MO",
          "NC",
          "MO",
          "UT",
          "PA"
         ],
         "legendgroup": "",
         "name": "",
         "showlegend": true,
         "type": "pie",
         "values": [
          "55.47",
          "70",
          "60",
          "79.73",
          "95",
          "67.25",
          "37.57",
          "57.32",
          "96.5",
          "62.34",
          "90.98",
          "60.23",
          "68.82",
          "61.67",
          "80",
          "70.2",
          "70",
          "96.5",
          "96.5",
          "49.61",
          "82.98",
          null,
          "90",
          "75",
          "96.5",
          "64.66",
          "70.65",
          "80.04",
          "90",
          "82.11",
          "80",
          "79.71",
          "96.5",
          "70",
          "80",
          "80",
          "33.7",
          "80",
          "92.07",
          "79.64",
          "72.73",
          "45.86",
          "85",
          "96.5",
          "70",
          "80.18",
          "96.5",
          "96.5",
          "72.39",
          "80",
          "84.21",
          "35.72",
          "65.36",
          "46.67",
          "75",
          "80",
          "95.25",
          "65",
          "95",
          null,
          null,
          "80",
          "65.89",
          "85.5",
          "85",
          "64.29",
          "96.5",
          "80",
          "72.66",
          "79.89",
          "79.27",
          "39.29",
          "70",
          "83.96",
          "80",
          "58.54",
          "65.57",
          "96.5",
          "80",
          "75",
          "53.85",
          "75",
          "80",
          "93.62",
          "70",
          "79.17",
          "85",
          "79.96",
          "50",
          "65",
          "79.37",
          "67.17",
          "69.57",
          "65",
          null,
          "95",
          "65",
          "71.77",
          "95",
          "80",
          "57.75",
          "80",
          "67.14",
          "64.24",
          "43.33",
          "32",
          "80",
          "79.61",
          "68.55",
          "63.43",
          "96.5",
          "66.76",
          "80",
          "84.93",
          "93.28",
          "90",
          "50",
          "85",
          "59.98",
          "70",
          "70",
          "80",
          "96.5",
          "89.63",
          "80",
          "95",
          "96.44",
          "80",
          "53.42",
          "58.47",
          "69.58",
          "42.96",
          "74.67",
          "93.33",
          "70",
          "31.25",
          "35.2",
          "96.5",
          "90.8",
          "56.76",
          "56.02",
          "74.52",
          "59.71",
          "82.71",
          "54.76",
          null,
          "71.5",
          "85",
          "72.09",
          "64.3",
          "58.15",
          "96.5",
          "96.5",
          "67.46",
          "77.03",
          "85",
          "69.67",
          "84.7",
          "85",
          "96.65",
          "96.5",
          "80",
          "79.55",
          "33.8",
          "96.5",
          "60",
          "96.5",
          "58.33",
          "76.29",
          "95.59",
          "76.42",
          "96.5",
          "59.35",
          "96.5",
          "59.32",
          "71.63",
          "48.07",
          "85",
          "80",
          "35.06",
          "96.5",
          "51.11",
          "75",
          "74.14",
          "32.43",
          "85",
          "74.73",
          "90",
          "96.5",
          "96.5",
          "60",
          "56.25",
          null,
          "62.37",
          "68.89",
          "60",
          "48",
          "90",
          "76.18",
          "54.87",
          "66.13",
          "72.16",
          "96.5",
          "47.21",
          "80",
          "38.8",
          "31.25",
          "79.36",
          "49.5",
          "80",
          "64",
          "52.33",
          "67.69",
          "41.68",
          "77.45",
          "80",
          "97.13",
          "96.5",
          "96.86",
          "80",
          "46.54",
          null,
          "80",
          "74.91",
          "96.5",
          "74.91",
          "96.5",
          "79.81",
          "61.29",
          "73.97",
          "74.24",
          "95",
          "96.5",
          "90",
          "75",
          "70",
          "60",
          "59.6",
          "52.29",
          "34.78",
          "96.5",
          "95.83",
          "43.84",
          "75",
          "78.06",
          "73.04",
          "74.64",
          null,
          "90",
          "77.88",
          "75",
          "42.2",
          "80",
          "69.66",
          "47.17",
          "80",
          "96.5",
          "63.27",
          "78.51",
          "73.96",
          null,
          "39.5",
          "55.45",
          "67.74",
          "75",
          "78.62",
          "80",
          "55.27",
          "65.91",
          "80",
          "96.5",
          "68.7",
          "66.8",
          "89.14",
          "70.2",
          "96.5",
          null,
          "79.64",
          "58.74",
          "95",
          "75",
          "55.05",
          null,
          null,
          "51.85",
          "66.98",
          "75",
          "69.81",
          "51.95",
          "95.86",
          "86.41",
          "80",
          "67.31",
          "45.29",
          "74.2",
          "51.93",
          "74.07",
          "57",
          "75",
          "39.22",
          "77.75",
          "71.71",
          "94.35",
          "69.7",
          "96.21",
          "75",
          "74.77",
          "96.98",
          "57",
          "46.96",
          "23",
          "79.85",
          "47.97",
          "78.44",
          "71.57",
          "79.13",
          "80",
          "64",
          "40",
          "80",
          "52.52",
          "73",
          "78.92",
          "72",
          "27.35",
          "80",
          "47.6",
          "47.45",
          "49.8",
          "42.87",
          "50",
          "41.53",
          "47.29",
          "54.83",
          "67.29",
          "40.816",
          "95",
          "80",
          "91.489",
          "95",
          "59.844",
          "80",
          "100",
          "96.5",
          "95",
          "82.933",
          "100.428",
          "95",
          "94.704",
          "80",
          "54.545",
          "95.742",
          "85",
          "96.5",
          "74.949",
          "90",
          "81",
          "96.5",
          "101.01",
          "101.01",
          "96.499",
          "80",
          "93",
          "95",
          "90",
          "97",
          "95",
          "90.846",
          "80",
          "90",
          "68.627",
          "95",
          "101.01",
          "41.667",
          "80",
          "96.5",
          "97",
          "96.5",
          "85.807",
          "56.204",
          "97",
          "96.5",
          "90",
          "90.194",
          "96.5",
          "92.793",
          "80",
          "78.261",
          "99.941",
          "99.952",
          "97",
          "80.465",
          "80",
          "96.5",
          "101.01",
          "101.833",
          "80",
          "80",
          "95",
          "84.504",
          "100",
          "85",
          "96.5",
          "51.931",
          "97",
          "96.5",
          "88.696",
          "80",
          "97",
          "80",
          "85",
          "100.34",
          "78",
          "80",
          "96.5",
          "80",
          "100",
          "95",
          "91.071",
          "95",
          "80",
          "97",
          "95",
          "63.068",
          "93.333",
          "61.538",
          "89.9",
          "79.999",
          "51.212",
          "43.917",
          "95",
          "96.5",
          "97",
          "96.89",
          "96.5",
          "96.5",
          "75",
          "90",
          "99.029",
          "96.5",
          "94.286",
          "90",
          "98.2",
          "95.147",
          "96.499",
          "96.5",
          "92.797",
          "97",
          "66",
          "101.01",
          "95",
          "40",
          "100.812",
          "96.5",
          "59.623",
          "72.09",
          "68.35",
          "79.94",
          "65.69",
          "73.96",
          "9.26",
          "63.93",
          "24.61",
          "76.6",
          "67.82",
          "33.33",
          "8.06",
          "58.69",
          "57.88",
          "73.36",
          "35.92",
          "72.22",
          "41.62",
          "65.03",
          "46.79",
          "53.15",
          "58.07",
          "80",
          "78.48",
          "87.87",
          "43.5",
          "85.48",
          "70.89",
          "39.94",
          "79.4",
          "91.31",
          "105.19",
          "94.34",
          "68.57",
          "18.69",
          "132.21",
          "75.49",
          "3.76",
          "1.36",
          "79.85",
          "99.4",
          "98.26",
          "26.68",
          "7.08",
          "74.91",
          "89.35",
          "39.67",
          "57.04",
          "85.1",
          "80.87",
          "70.65",
          "79.65",
          "75.46",
          "18.66",
          "46.9",
          "79.91",
          "54.89",
          "68.71",
          "69.36",
          "17.03",
          "65.06",
          "105.92",
          "97.56",
          "68.17",
          "41.08",
          "15.49",
          "93.81",
          null,
          "59.92",
          "61.56",
          "75.04",
          "97.37",
          "52.22",
          "66.46",
          "75.42",
          "78.09",
          "47.18",
          "235.2",
          "10.37",
          "34.72",
          "68.61",
          null,
          "159.1",
          "57.66",
          "90.03",
          "55.81",
          "59.09",
          "106.43",
          "38.4",
          "79.84",
          "7.35",
          "87.5",
          "59.21",
          "77.96",
          "54.82",
          "72.46",
          "67.77",
          "66.67",
          null,
          "77.46",
          "79.81",
          "49.7",
          "28.95",
          "59.89",
          "82.22",
          "80",
          "38.7",
          "14.53",
          "54.19",
          "36.23",
          "72.1",
          null,
          "30.66",
          "45.69",
          "92.55",
          "52.86",
          "70.76",
          "78.68",
          "92.61",
          "181.82",
          "Exempt",
          "Exempt",
          "Exempt",
          "Exempt",
          "Exempt",
          "Exempt",
          "Exempt",
          "Exempt",
          "Exempt",
          "Exempt",
          "Exempt",
          "Exempt",
          "Exempt",
          "Exempt",
          "Exempt",
          "Exempt",
          "Exempt",
          "Exempt",
          "Exempt",
          "Exempt",
          "Exempt",
          "Exempt",
          "Exempt",
          "Exempt",
          "Exempt",
          "Exempt",
          "Exempt",
          "Exempt",
          "Exempt",
          "Exempt",
          "Exempt",
          "Exempt",
          "Exempt",
          "Exempt",
          "Exempt",
          "Exempt",
          "Exempt",
          "Exempt",
          "Exempt",
          "Exempt",
          "Exempt",
          "Exempt",
          "Exempt",
          "Exempt",
          "Exempt",
          "Exempt",
          "Exempt",
          "Exempt",
          "Exempt",
          "Exempt",
          "Exempt",
          "Exempt",
          "Exempt",
          "Exempt",
          "Exempt",
          "Exempt",
          "Exempt",
          "Exempt",
          "Exempt",
          "Exempt",
          "Exempt",
          "Exempt",
          "Exempt",
          "Exempt",
          "Exempt",
          "Exempt",
          "Exempt",
          "Exempt",
          "Exempt",
          "Exempt",
          "Exempt",
          "Exempt",
          "Exempt",
          "Exempt",
          "Exempt",
          "Exempt",
          "Exempt",
          "Exempt",
          "Exempt",
          "Exempt",
          "Exempt",
          "Exempt",
          "Exempt",
          "Exempt",
          "Exempt",
          "Exempt",
          "Exempt",
          "Exempt",
          "Exempt",
          "Exempt",
          "Exempt",
          "Exempt",
          "Exempt",
          "Exempt",
          "Exempt",
          "Exempt",
          "Exempt",
          "Exempt",
          "Exempt",
          "Exempt",
          "Exempt",
          "Exempt",
          "Exempt",
          "Exempt",
          "75.86",
          "87.3",
          "79.23",
          "79.77",
          "86.97",
          "83.53",
          "84.34",
          "92.77",
          "82.5",
          null,
          "95.18",
          "85",
          "93.94",
          "67.72",
          "97.83",
          "73.36",
          "79.77",
          "60",
          null,
          "75.58",
          "95.82",
          "101.32",
          "77.77",
          "57.05",
          "71.43",
          "80",
          "82.37",
          "85",
          "52.67",
          "81.53",
          "79.89",
          "87.04",
          "96.23",
          null,
          "73.78",
          "80",
          "75",
          "72.2",
          "77.85",
          "80",
          "79.43",
          "80",
          "90.07",
          "100",
          null,
          "79.14",
          "200",
          "94.32",
          "96.95",
          "79.37",
          "68.18",
          "95.71",
          "57.99",
          "32.97",
          "75.63",
          "43.89",
          null,
          null,
          null,
          "86.48",
          "75",
          "99.96",
          "94.01",
          "80",
          "91.99",
          "80",
          null,
          null,
          null,
          null,
          "89.95",
          null,
          null,
          null,
          null,
          "96.5",
          null,
          null,
          "94.62",
          null,
          null,
          null,
          null,
          "100",
          null,
          null,
          null,
          null,
          null,
          null,
          "80",
          null,
          null,
          null,
          null,
          null,
          null,
          null,
          "100",
          "75.79",
          null,
          null,
          "90",
          null,
          "74.98",
          null,
          null,
          null,
          null,
          null,
          null,
          null,
          null,
          null,
          "95",
          null,
          "66.93",
          null,
          null,
          null,
          "56.91",
          null,
          "33.77",
          null,
          null,
          null,
          "100",
          null,
          null,
          null,
          null,
          null,
          null,
          null,
          null,
          null,
          "80",
          "85",
          null,
          null,
          null,
          "98.81",
          null,
          null,
          "80",
          null,
          null,
          null,
          null,
          null,
          null,
          null,
          null,
          "100",
          "80",
          "85",
          "69.82",
          "71.72",
          "96.68",
          "61.58",
          "77.47",
          "84.85",
          "60.48",
          "48.86",
          "69.17",
          "100",
          "74.22",
          "96.5",
          "102.31",
          "80",
          "79.05",
          "69.52",
          "100",
          "96.48",
          "63.56",
          "76.64",
          "95",
          "79.77",
          "97.4",
          "82.76",
          "74.57",
          "80",
          "88.93",
          "89.9",
          "87.47",
          "84.91",
          "91.84",
          "85",
          "74.07",
          "92.45",
          "68.28",
          "69.69",
          "41.67",
          "80",
          "52",
          "80",
          "45",
          "74.12",
          "80",
          "100",
          "95.12",
          "75",
          "72.88",
          "82.21",
          "59.14",
          null,
          "47.43",
          "80",
          "80",
          "80.22",
          "77.33",
          "88.05",
          "99.03",
          "103.3",
          "95.93",
          "73.19",
          "94.44",
          "69.79",
          "85",
          "79.85",
          null,
          "94.79",
          null,
          null,
          "73.64",
          "96.43",
          "84",
          "79.62",
          null,
          "92.39",
          "64.89",
          "85",
          "80",
          "80",
          "89.29",
          "79.64",
          null,
          null,
          "110.5",
          null,
          null,
          null,
          "80",
          "77.5",
          null,
          "75.21",
          null,
          null,
          "87.84",
          null,
          null,
          "32.08",
          "75",
          null,
          "96.06",
          "95.24",
          null,
          null,
          null,
          null,
          null,
          null,
          null,
          null,
          null,
          null,
          null,
          null,
          null,
          null,
          null,
          null,
          null,
          null,
          null,
          null,
          "95",
          null,
          null,
          null,
          "95",
          null,
          null,
          null,
          null,
          null,
          "80",
          null,
          null,
          null,
          "90.78",
          null,
          null,
          null,
          null,
          null,
          null,
          null,
          "79.98",
          null,
          "43.19",
          null,
          null,
          null,
          null,
          "65.05",
          null,
          null,
          null,
          null,
          null,
          "75",
          null,
          null,
          null,
          null,
          "80",
          null,
          "77.06",
          null,
          null
         ]
        }
       ],
       "layout": {
        "legend": {
         "tracegroupgap": 0
        },
        "template": {
         "data": {
          "bar": [
           {
            "error_x": {
             "color": "#2a3f5f"
            },
            "error_y": {
             "color": "#2a3f5f"
            },
            "marker": {
             "line": {
              "color": "#E5ECF6",
              "width": 0.5
             },
             "pattern": {
              "fillmode": "overlay",
              "size": 10,
              "solidity": 0.2
             }
            },
            "type": "bar"
           }
          ],
          "barpolar": [
           {
            "marker": {
             "line": {
              "color": "#E5ECF6",
              "width": 0.5
             },
             "pattern": {
              "fillmode": "overlay",
              "size": 10,
              "solidity": 0.2
             }
            },
            "type": "barpolar"
           }
          ],
          "carpet": [
           {
            "aaxis": {
             "endlinecolor": "#2a3f5f",
             "gridcolor": "white",
             "linecolor": "white",
             "minorgridcolor": "white",
             "startlinecolor": "#2a3f5f"
            },
            "baxis": {
             "endlinecolor": "#2a3f5f",
             "gridcolor": "white",
             "linecolor": "white",
             "minorgridcolor": "white",
             "startlinecolor": "#2a3f5f"
            },
            "type": "carpet"
           }
          ],
          "choropleth": [
           {
            "colorbar": {
             "outlinewidth": 0,
             "ticks": ""
            },
            "type": "choropleth"
           }
          ],
          "contour": [
           {
            "colorbar": {
             "outlinewidth": 0,
             "ticks": ""
            },
            "colorscale": [
             [
              0,
              "#0d0887"
             ],
             [
              0.1111111111111111,
              "#46039f"
             ],
             [
              0.2222222222222222,
              "#7201a8"
             ],
             [
              0.3333333333333333,
              "#9c179e"
             ],
             [
              0.4444444444444444,
              "#bd3786"
             ],
             [
              0.5555555555555556,
              "#d8576b"
             ],
             [
              0.6666666666666666,
              "#ed7953"
             ],
             [
              0.7777777777777778,
              "#fb9f3a"
             ],
             [
              0.8888888888888888,
              "#fdca26"
             ],
             [
              1,
              "#f0f921"
             ]
            ],
            "type": "contour"
           }
          ],
          "contourcarpet": [
           {
            "colorbar": {
             "outlinewidth": 0,
             "ticks": ""
            },
            "type": "contourcarpet"
           }
          ],
          "heatmap": [
           {
            "colorbar": {
             "outlinewidth": 0,
             "ticks": ""
            },
            "colorscale": [
             [
              0,
              "#0d0887"
             ],
             [
              0.1111111111111111,
              "#46039f"
             ],
             [
              0.2222222222222222,
              "#7201a8"
             ],
             [
              0.3333333333333333,
              "#9c179e"
             ],
             [
              0.4444444444444444,
              "#bd3786"
             ],
             [
              0.5555555555555556,
              "#d8576b"
             ],
             [
              0.6666666666666666,
              "#ed7953"
             ],
             [
              0.7777777777777778,
              "#fb9f3a"
             ],
             [
              0.8888888888888888,
              "#fdca26"
             ],
             [
              1,
              "#f0f921"
             ]
            ],
            "type": "heatmap"
           }
          ],
          "heatmapgl": [
           {
            "colorbar": {
             "outlinewidth": 0,
             "ticks": ""
            },
            "colorscale": [
             [
              0,
              "#0d0887"
             ],
             [
              0.1111111111111111,
              "#46039f"
             ],
             [
              0.2222222222222222,
              "#7201a8"
             ],
             [
              0.3333333333333333,
              "#9c179e"
             ],
             [
              0.4444444444444444,
              "#bd3786"
             ],
             [
              0.5555555555555556,
              "#d8576b"
             ],
             [
              0.6666666666666666,
              "#ed7953"
             ],
             [
              0.7777777777777778,
              "#fb9f3a"
             ],
             [
              0.8888888888888888,
              "#fdca26"
             ],
             [
              1,
              "#f0f921"
             ]
            ],
            "type": "heatmapgl"
           }
          ],
          "histogram": [
           {
            "marker": {
             "pattern": {
              "fillmode": "overlay",
              "size": 10,
              "solidity": 0.2
             }
            },
            "type": "histogram"
           }
          ],
          "histogram2d": [
           {
            "colorbar": {
             "outlinewidth": 0,
             "ticks": ""
            },
            "colorscale": [
             [
              0,
              "#0d0887"
             ],
             [
              0.1111111111111111,
              "#46039f"
             ],
             [
              0.2222222222222222,
              "#7201a8"
             ],
             [
              0.3333333333333333,
              "#9c179e"
             ],
             [
              0.4444444444444444,
              "#bd3786"
             ],
             [
              0.5555555555555556,
              "#d8576b"
             ],
             [
              0.6666666666666666,
              "#ed7953"
             ],
             [
              0.7777777777777778,
              "#fb9f3a"
             ],
             [
              0.8888888888888888,
              "#fdca26"
             ],
             [
              1,
              "#f0f921"
             ]
            ],
            "type": "histogram2d"
           }
          ],
          "histogram2dcontour": [
           {
            "colorbar": {
             "outlinewidth": 0,
             "ticks": ""
            },
            "colorscale": [
             [
              0,
              "#0d0887"
             ],
             [
              0.1111111111111111,
              "#46039f"
             ],
             [
              0.2222222222222222,
              "#7201a8"
             ],
             [
              0.3333333333333333,
              "#9c179e"
             ],
             [
              0.4444444444444444,
              "#bd3786"
             ],
             [
              0.5555555555555556,
              "#d8576b"
             ],
             [
              0.6666666666666666,
              "#ed7953"
             ],
             [
              0.7777777777777778,
              "#fb9f3a"
             ],
             [
              0.8888888888888888,
              "#fdca26"
             ],
             [
              1,
              "#f0f921"
             ]
            ],
            "type": "histogram2dcontour"
           }
          ],
          "mesh3d": [
           {
            "colorbar": {
             "outlinewidth": 0,
             "ticks": ""
            },
            "type": "mesh3d"
           }
          ],
          "parcoords": [
           {
            "line": {
             "colorbar": {
              "outlinewidth": 0,
              "ticks": ""
             }
            },
            "type": "parcoords"
           }
          ],
          "pie": [
           {
            "automargin": true,
            "type": "pie"
           }
          ],
          "scatter": [
           {
            "marker": {
             "colorbar": {
              "outlinewidth": 0,
              "ticks": ""
             }
            },
            "type": "scatter"
           }
          ],
          "scatter3d": [
           {
            "line": {
             "colorbar": {
              "outlinewidth": 0,
              "ticks": ""
             }
            },
            "marker": {
             "colorbar": {
              "outlinewidth": 0,
              "ticks": ""
             }
            },
            "type": "scatter3d"
           }
          ],
          "scattercarpet": [
           {
            "marker": {
             "colorbar": {
              "outlinewidth": 0,
              "ticks": ""
             }
            },
            "type": "scattercarpet"
           }
          ],
          "scattergeo": [
           {
            "marker": {
             "colorbar": {
              "outlinewidth": 0,
              "ticks": ""
             }
            },
            "type": "scattergeo"
           }
          ],
          "scattergl": [
           {
            "marker": {
             "colorbar": {
              "outlinewidth": 0,
              "ticks": ""
             }
            },
            "type": "scattergl"
           }
          ],
          "scattermapbox": [
           {
            "marker": {
             "colorbar": {
              "outlinewidth": 0,
              "ticks": ""
             }
            },
            "type": "scattermapbox"
           }
          ],
          "scatterpolar": [
           {
            "marker": {
             "colorbar": {
              "outlinewidth": 0,
              "ticks": ""
             }
            },
            "type": "scatterpolar"
           }
          ],
          "scatterpolargl": [
           {
            "marker": {
             "colorbar": {
              "outlinewidth": 0,
              "ticks": ""
             }
            },
            "type": "scatterpolargl"
           }
          ],
          "scatterternary": [
           {
            "marker": {
             "colorbar": {
              "outlinewidth": 0,
              "ticks": ""
             }
            },
            "type": "scatterternary"
           }
          ],
          "surface": [
           {
            "colorbar": {
             "outlinewidth": 0,
             "ticks": ""
            },
            "colorscale": [
             [
              0,
              "#0d0887"
             ],
             [
              0.1111111111111111,
              "#46039f"
             ],
             [
              0.2222222222222222,
              "#7201a8"
             ],
             [
              0.3333333333333333,
              "#9c179e"
             ],
             [
              0.4444444444444444,
              "#bd3786"
             ],
             [
              0.5555555555555556,
              "#d8576b"
             ],
             [
              0.6666666666666666,
              "#ed7953"
             ],
             [
              0.7777777777777778,
              "#fb9f3a"
             ],
             [
              0.8888888888888888,
              "#fdca26"
             ],
             [
              1,
              "#f0f921"
             ]
            ],
            "type": "surface"
           }
          ],
          "table": [
           {
            "cells": {
             "fill": {
              "color": "#EBF0F8"
             },
             "line": {
              "color": "white"
             }
            },
            "header": {
             "fill": {
              "color": "#C8D4E3"
             },
             "line": {
              "color": "white"
             }
            },
            "type": "table"
           }
          ]
         },
         "layout": {
          "annotationdefaults": {
           "arrowcolor": "#2a3f5f",
           "arrowhead": 0,
           "arrowwidth": 1
          },
          "autotypenumbers": "strict",
          "coloraxis": {
           "colorbar": {
            "outlinewidth": 0,
            "ticks": ""
           }
          },
          "colorscale": {
           "diverging": [
            [
             0,
             "#8e0152"
            ],
            [
             0.1,
             "#c51b7d"
            ],
            [
             0.2,
             "#de77ae"
            ],
            [
             0.3,
             "#f1b6da"
            ],
            [
             0.4,
             "#fde0ef"
            ],
            [
             0.5,
             "#f7f7f7"
            ],
            [
             0.6,
             "#e6f5d0"
            ],
            [
             0.7,
             "#b8e186"
            ],
            [
             0.8,
             "#7fbc41"
            ],
            [
             0.9,
             "#4d9221"
            ],
            [
             1,
             "#276419"
            ]
           ],
           "sequential": [
            [
             0,
             "#0d0887"
            ],
            [
             0.1111111111111111,
             "#46039f"
            ],
            [
             0.2222222222222222,
             "#7201a8"
            ],
            [
             0.3333333333333333,
             "#9c179e"
            ],
            [
             0.4444444444444444,
             "#bd3786"
            ],
            [
             0.5555555555555556,
             "#d8576b"
            ],
            [
             0.6666666666666666,
             "#ed7953"
            ],
            [
             0.7777777777777778,
             "#fb9f3a"
            ],
            [
             0.8888888888888888,
             "#fdca26"
            ],
            [
             1,
             "#f0f921"
            ]
           ],
           "sequentialminus": [
            [
             0,
             "#0d0887"
            ],
            [
             0.1111111111111111,
             "#46039f"
            ],
            [
             0.2222222222222222,
             "#7201a8"
            ],
            [
             0.3333333333333333,
             "#9c179e"
            ],
            [
             0.4444444444444444,
             "#bd3786"
            ],
            [
             0.5555555555555556,
             "#d8576b"
            ],
            [
             0.6666666666666666,
             "#ed7953"
            ],
            [
             0.7777777777777778,
             "#fb9f3a"
            ],
            [
             0.8888888888888888,
             "#fdca26"
            ],
            [
             1,
             "#f0f921"
            ]
           ]
          },
          "colorway": [
           "#636efa",
           "#EF553B",
           "#00cc96",
           "#ab63fa",
           "#FFA15A",
           "#19d3f3",
           "#FF6692",
           "#B6E880",
           "#FF97FF",
           "#FECB52"
          ],
          "font": {
           "color": "#2a3f5f"
          },
          "geo": {
           "bgcolor": "white",
           "lakecolor": "white",
           "landcolor": "#E5ECF6",
           "showlakes": true,
           "showland": true,
           "subunitcolor": "white"
          },
          "hoverlabel": {
           "align": "left"
          },
          "hovermode": "closest",
          "mapbox": {
           "style": "light"
          },
          "paper_bgcolor": "white",
          "plot_bgcolor": "#E5ECF6",
          "polar": {
           "angularaxis": {
            "gridcolor": "white",
            "linecolor": "white",
            "ticks": ""
           },
           "bgcolor": "#E5ECF6",
           "radialaxis": {
            "gridcolor": "white",
            "linecolor": "white",
            "ticks": ""
           }
          },
          "scene": {
           "xaxis": {
            "backgroundcolor": "#E5ECF6",
            "gridcolor": "white",
            "gridwidth": 2,
            "linecolor": "white",
            "showbackground": true,
            "ticks": "",
            "zerolinecolor": "white"
           },
           "yaxis": {
            "backgroundcolor": "#E5ECF6",
            "gridcolor": "white",
            "gridwidth": 2,
            "linecolor": "white",
            "showbackground": true,
            "ticks": "",
            "zerolinecolor": "white"
           },
           "zaxis": {
            "backgroundcolor": "#E5ECF6",
            "gridcolor": "white",
            "gridwidth": 2,
            "linecolor": "white",
            "showbackground": true,
            "ticks": "",
            "zerolinecolor": "white"
           }
          },
          "shapedefaults": {
           "line": {
            "color": "#2a3f5f"
           }
          },
          "ternary": {
           "aaxis": {
            "gridcolor": "white",
            "linecolor": "white",
            "ticks": ""
           },
           "baxis": {
            "gridcolor": "white",
            "linecolor": "white",
            "ticks": ""
           },
           "bgcolor": "#E5ECF6",
           "caxis": {
            "gridcolor": "white",
            "linecolor": "white",
            "ticks": ""
           }
          },
          "title": {
           "x": 0.05
          },
          "xaxis": {
           "automargin": true,
           "gridcolor": "white",
           "linecolor": "white",
           "ticks": "",
           "title": {
            "standoff": 15
           },
           "zerolinecolor": "white",
           "zerolinewidth": 2
          },
          "yaxis": {
           "automargin": true,
           "gridcolor": "white",
           "linecolor": "white",
           "ticks": "",
           "title": {
            "standoff": 15
           },
           "zerolinecolor": "white",
           "zerolinewidth": 2
          }
         }
        },
        "title": {
         "text": "Loan to Value Ratio per State"
        }
       }
      }
     },
     "metadata": {},
     "output_type": "display_data"
    }
   ],
   "source": [
    "fig = px.pie(mean_df, values=hmda_data[\"loan_to_value_ratio\"], names=hmda_data[\"state_code\"], title='Loan to Value Ratio per State')\n",
    "fig.show()"
   ]
  },
  {
   "cell_type": "code",
   "execution_count": 73,
   "metadata": {},
   "outputs": [
    {
     "data": {
      "text/plain": [
       "'https://plotly.com/~borasik/15/'"
      ]
     },
     "execution_count": 73,
     "metadata": {},
     "output_type": "execute_result"
    }
   ],
   "source": [
    "py.plot(basic_bars, filename = 'basic_bars_graph2', auto_open=True)\n",
    "py.plot(fig, filename = 'basic_bars_graph3', auto_open=True) "
   ]
  }
 ],
 "metadata": {
  "interpreter": {
   "hash": "ac59ebe37160ed0dfa835113d9b8498d9f09ceb179beaac4002f036b9467c963"
  },
  "kernelspec": {
   "display_name": "Python 3.9.9 64-bit",
   "language": "python",
   "name": "python3"
  },
  "language_info": {
   "codemirror_mode": {
    "name": "ipython",
    "version": 3
   },
   "file_extension": ".py",
   "mimetype": "text/x-python",
   "name": "python",
   "nbconvert_exporter": "python",
   "pygments_lexer": "ipython3",
   "version": "3.9.1"
  },
  "orig_nbformat": 4
 },
 "nbformat": 4,
 "nbformat_minor": 2
}
